{
 "cells": [
  {
   "cell_type": "code",
   "execution_count": 37,
   "metadata": {},
   "outputs": [
    {
     "name": "stdout",
     "output_type": "stream",
     "text": [
      "tensor([0, 1, 2, 3])\n"
     ]
    }
   ],
   "source": [
    "import torch\n",
    "import torch.nn as nn\n",
    "import torch.nn.functional as F\n",
    "import torch.optim as optim\n",
    "import torch.utils.data as utils\n",
    "import pandas as pd\n",
    "import numpy as np\n",
    "import matplotlib.pyplot as plt\n",
    "import seaborn as sns\n",
    "\n",
    "# Read in CSV\n",
    "train_pd = pd.read_csv('train_filtered.csv')\n",
    "test_pd = pd.read_csv('test_filtered.csv')\n",
    "\n",
    "# Convert string representation of list to actual list of floats\n",
    "train_pd['features'] = train_pd['features'].apply(lambda x: [float(i) for i in x.strip('[]').split(',')])\n",
    "test_pd['features'] = test_pd['features'].apply(lambda x: [float(i) for i in x.strip('[]').split(',')])\n",
    "\n",
    "x_train = torch.from_numpy(np.array(train_pd['features'].values.tolist(), np.float32))\n",
    "y_train = torch.from_numpy(np.array(train_pd['outcome'].values.tolist(), np.int64))\n",
    "\n",
    "x_test = torch.from_numpy(np.array(test_pd['features'].values.tolist(), np.float32))\n",
    "y_test = torch.from_numpy(np.array(test_pd['outcome'].values.tolist(), np.int64))\n",
    "\n",
    "# Make sure the data is zero-indexed\n",
    "y_train = y_train - 2\n",
    "y_test = y_test - 2\n",
    "print(y_train.unique())"
   ]
  },
  {
   "cell_type": "code",
   "execution_count": 38,
   "metadata": {},
   "outputs": [
    {
     "name": "stdout",
     "output_type": "stream",
     "text": [
      "torch.Size([58630, 113]) torch.Size([58630])\n"
     ]
    }
   ],
   "source": [
    "print(x_train.shape, y_train.shape)"
   ]
  },
  {
   "cell_type": "code",
   "execution_count": 39,
   "metadata": {},
   "outputs": [],
   "source": [
    "from torch.utils.data import Dataset, DataLoader\n",
    "class MyDataset(Dataset):\n",
    "    def __init__(self, x, y):\n",
    "        self.x = x\n",
    "        self.y = y\n",
    "    def __len__(self):\n",
    "        return self.x.shape[0]\n",
    "    def __getitem__(self, idx):\n",
    "        return self.x[idx], self.y[idx]\n",
    "    \n",
    "train_dataset = MyDataset(x_train, y_train)\n",
    "test_dataset = MyDataset(x_test, y_test)"
   ]
  },
  {
   "cell_type": "code",
   "execution_count": 40,
   "metadata": {},
   "outputs": [],
   "source": [
    "class myNeuralNet(nn.Module):\n",
    "    def __init__(self, input_size):\n",
    "        super().__init__()\n",
    "        self.ln1 = nn.Linear(input_size, 128)\n",
    "        self.ln2 = nn.Linear(128, 64)\n",
    "        self.ln3 = nn.Linear(64, 32)\n",
    "        self.ln4 = nn.Linear(32, 4)\n",
    "    def forward(self, x):\n",
    "        x = F.relu(self.ln1(x))\n",
    "        x = F.relu(self.ln2(x))\n",
    "        x = F.relu(self.ln3(x))\n",
    "        x = self.ln4(x)\n",
    "        x = F.softmax(x, dim=-1)\n",
    "        return x\n",
    "    \n",
    "ada_mlp = myNeuralNet(x_train.shape[1])"
   ]
  },
  {
   "cell_type": "code",
   "execution_count": 41,
   "metadata": {},
   "outputs": [
    {
     "name": "stdout",
     "output_type": "stream",
     "text": [
      "cpu\n"
     ]
    }
   ],
   "source": [
    "device = torch.device(\"cuda:0\" if torch.cuda.is_available() else \"cpu\")\n",
    "print(device)"
   ]
  },
  {
   "cell_type": "code",
   "execution_count": 42,
   "metadata": {},
   "outputs": [],
   "source": [
    "def training_loop(n_epochs, model, lr, batch_size):\n",
    "    model = model.to(device)\n",
    "\n",
    "    batch_size = batch_size\n",
    "    num_epochs = n_epochs\n",
    "    lr = lr\n",
    "    opt = optim.Adam(model.parameters(), lr=lr)\n",
    "    loss_fcn = nn.CrossEntropyLoss()\n",
    "\n",
    "    train_loss = []\n",
    "    test_loss = []\n",
    "    train_loader = DataLoader(train_dataset, batch_size=batch_size, shuffle=False)\n",
    "    test_loader = DataLoader(test_dataset, batch_size=batch_size, shuffle=False)\n",
    "    for epoch in range(num_epochs):\n",
    "        model.train()  # Set the model to training mode\n",
    "\n",
    "        # Initialize variables to store the total loss for this epoch\n",
    "        total_train_loss = 0\n",
    "        total_test_loss = 0\n",
    "        correct_predictions = 0\n",
    "        total_predictions = 0\n",
    "        # Training loop\n",
    "        for batch_id, (x, y) in enumerate(train_loader):\n",
    "            x, y = x.to(device), y.to(device)  # Move the data to the device that is used\n",
    "            opt.zero_grad()  # Zero the gradients\n",
    "            output = model(x)  # Forward pass\n",
    "            loss = loss_fcn(output, y)  # Compute the loss\n",
    "\n",
    "            total_train_loss += loss.item()  # Accumulate the loss\n",
    "            _, predicted = torch.max(output.data, 1)  # Get the predicted classes\n",
    "            total_predictions += y.size(0)\n",
    "            correct_predictions += (predicted == y).sum().item()\n",
    "            loss.backward()  # Backward pass\n",
    "            opt.step()  # Update the parameters\n",
    "\n",
    "        # Store the average training loss for this epoch\n",
    "        train_loss.append(total_train_loss / len(train_loader))\n",
    "        if (epoch + 1) % 5 == 0:\n",
    "            print(f\"Epoch {epoch + 1} - Train Accuracy: {correct_predictions / total_predictions}\")\n",
    "        # Validation loop\n",
    "        model.eval()  # Set the model to evaluation mode\n",
    "        correct_predictions = 0\n",
    "        total_predictions = 0\n",
    "        with torch.no_grad():  # No need to compute gradients during validation\n",
    "            for batch_id, (x, y) in enumerate(test_loader):\n",
    "                x, y = x.to(device), y.to(device)  # Move the data to the device that is used\n",
    "                output = model(x)  # Forward pass\n",
    "                loss = loss_fcn(output, y )  # Compute the loss\n",
    "                total_test_loss += loss.item()  # Accumulate the loss\n",
    "                _, predicted = torch.max(output.data, 1)\n",
    "                total_predictions += y.size(0)\n",
    "                correct_predictions += (predicted == y).sum().item()\n",
    "\n",
    "        # Store the average validation loss for this epoch\n",
    "        test_loss.append(total_test_loss / len(test_loader))\n",
    "\n",
    "        # Print the losses every 5 epochs\n",
    "        if (epoch + 1) % 5 == 0:\n",
    "            print(f\"Epoch {epoch + 1} - Train Loss: {train_loss[-1]}, Test Loss: {test_loss[-1]}\")\n",
    "            print(f\"Epoch {epoch + 1} - Test Accuracy: {correct_predictions / total_predictions}\")\n",
    "\n",
    "        # Save the best model so far\n",
    "        if epoch == 0 or test_loss[-1] < np.min(test_loss[:-1]):\n",
    "            best_model = model\n",
    "            best_epoch = epoch\n",
    "\n",
    "        # Early stopping\n",
    "        if epoch - best_epoch >= 30:\n",
    "            print(f\"Early stopping at epoch {epoch + 1}\")\n",
    "            break\n",
    "\n",
    "    # Plot the training and validation losses\n",
    "    plt.plot(train_loss, label=\"Train Loss\")\n",
    "    plt.plot(test_loss, label=\"Test Loss\")\n",
    "    plt.xlabel(\"Epoch\")\n",
    "    plt.ylabel(\"Loss\")\n",
    "    plt.legend()\n",
    "    plt.title(\"Training and Validation Losses\")\n",
    "    plt.show()\n",
    "\n",
    "    return best_model"
   ]
  },
  {
   "cell_type": "code",
   "execution_count": 43,
   "metadata": {},
   "outputs": [
    {
     "name": "stdout",
     "output_type": "stream",
     "text": [
      "Epoch 5 - Train Accuracy: 0.9960088691796009\n",
      "Epoch 5 - Train Loss: 0.7476382365933171, Test Loss: 0.9638002243372473\n",
      "Epoch 5 - Test Accuracy: 0.7791630951453284\n",
      "Epoch 10 - Train Accuracy: 0.9958041958041958\n",
      "Epoch 10 - Train Loss: 0.7478668385860967, Test Loss: 0.9595452275606665\n",
      "Epoch 10 - Test Accuracy: 0.7818904387126938\n"
     ]
    },
    {
     "data": {
      "image/png": "[encoded data removed]",
      "text/plain": [
       "<Figure size 640x480 with 1 Axes>"
      ]
     },
     "metadata": {},
     "output_type": "display_data"
    }
   ],
   "source": [
    "input_size = x_train.shape[1]\n",
    "models = myNeuralNet(input_size)\n",
    "best_model = training_loop(10, models, 0.004, 128)"
   ]
  },
  {
   "cell_type": "code",
   "execution_count": 44,
   "metadata": {},
   "outputs": [],
   "source": [
    "# Deeper MLP\n",
    "class myDeeperNeuralNet(nn.Module):\n",
    "    def __init__(self, input_size):\n",
    "        super().__init__()\n",
    "        self.ln1 = nn.Linear(input_size, 128)\n",
    "        self.ln2 = nn.Linear(128, 64)\n",
    "        self.ln3 = nn.Linear(64, 64)\n",
    "        self.ln4 = nn.Linear(64, 64)\n",
    "        self.ln5 = nn.Linear(64, 32)\n",
    "        self.ln6 = nn.Linear(32, 16)\n",
    "        self.ln7 = nn.Linear(16, 8)\n",
    "        self.ln8 = nn.Linear(8, 4)\n",
    "    def forward(self, x):\n",
    "        x = F.relu(self.ln1(x))\n",
    "        x = F.relu(self.ln2(x))\n",
    "        x = F.relu(self.ln3(x))\n",
    "        x = F.relu(self.ln4(x))\n",
    "        x = F.relu(self.ln5(x))\n",
    "        x = F.relu(self.ln6(x))\n",
    "        x = F.relu(self.ln7(x))\n",
    "        x = self.ln8(x)\n",
    "        x = F.softmax(x, dim =-1)\n",
    "        return x\n",
    "\n",
    "ada_deep = myDeeperNeuralNet(x_train.shape[1])"
   ]
  },
  {
   "cell_type": "code",
   "execution_count": 45,
   "metadata": {},
   "outputs": [
    {
     "name": "stdout",
     "output_type": "stream",
     "text": [
      "Epoch 5 - Train Accuracy: 0.9960941497526863\n",
      "Epoch 5 - Train Loss: 0.7476201704533062, Test Loss: 0.9855625657596399\n",
      "Epoch 5 - Test Accuracy: 0.7393438790617938\n",
      "Epoch 10 - Train Accuracy: 0.9966399454204332\n",
      "Epoch 10 - Train Loss: 0.7470284784614096, Test Loss: 0.9556245557704375\n",
      "Epoch 10 - Test Accuracy: 0.7749551936413933\n",
      "Epoch 15 - Train Accuracy: 0.9976974245266929\n",
      "Epoch 15 - Train Loss: 0.7460202292477701, Test Loss: 0.9550956735266974\n",
      "Epoch 15 - Test Accuracy: 0.79007246941479\n",
      "Epoch 20 - Train Accuracy: 0.9978338734436295\n",
      "Epoch 20 - Train Loss: 0.7458462726530064, Test Loss: 0.9210679691229293\n",
      "Epoch 20 - Test Accuracy: 0.821553806592379\n",
      "Epoch 25 - Train Accuracy: 0.9980214907044175\n",
      "Epoch 25 - Train Loss: 0.7456305204878982, Test Loss: 0.9374560870934482\n",
      "Epoch 25 - Test Accuracy: 0.804566352372789\n",
      "Epoch 30 - Train Accuracy: 0.9981579396213542\n",
      "Epoch 30 - Train Loss: 0.7455231721324473, Test Loss: 0.9498942019927561\n",
      "Epoch 30 - Test Accuracy: 0.7889815319878438\n",
      "Epoch 35 - Train Accuracy: 0.9981579396213542\n",
      "Epoch 35 - Train Loss: 0.7455181808531512, Test Loss: 0.9142895856900002\n",
      "Epoch 35 - Test Accuracy: 0.8275539624405829\n",
      "Epoch 40 - Train Accuracy: 0.9980897151628859\n",
      "Epoch 40 - Train Loss: 0.7455800700174676, Test Loss: 0.9489260324791297\n",
      "Epoch 40 - Test Accuracy: 0.7926439647783059\n",
      "Epoch 45 - Train Accuracy: 0.9981749957359713\n",
      "Epoch 45 - Train Loss: 0.7454996051127574, Test Loss: 0.9202302421503399\n",
      "Epoch 45 - Test Accuracy: 0.8208524896750565\n",
      "Epoch 50 - Train Accuracy: 0.9982432201944397\n",
      "Epoch 50 - Train Loss: 0.7454231456857006, Test Loss: 0.9194783417146597\n",
      "Epoch 50 - Test Accuracy: 0.8219434271020026\n",
      "Epoch 55 - Train Accuracy: 0.9980897151628859\n",
      "Epoch 55 - Train Loss: 0.7455629166266466, Test Loss: 0.9328067505834114\n",
      "Epoch 55 - Test Accuracy: 0.8095534948959713\n",
      "Epoch 60 - Train Accuracy: 0.9975950878389903\n",
      "Epoch 60 - Train Loss: 0.7460617108612976, Test Loss: 0.9374841015730331\n",
      "Epoch 60 - Test Accuracy: 0.8043325800670147\n",
      "Epoch 65 - Train Accuracy: 0.9983285007675251\n",
      "Epoch 65 - Train Loss: 0.7453598964103766, Test Loss: 0.9499242327996155\n",
      "Epoch 65 - Test Accuracy: 0.7920984960648328\n",
      "Early stopping at epoch 65\n"
     ]
    },
    {
     "data": {
      "image/png": "[encoded data removed]",
      "text/plain": [
       "<Figure size 640x480 with 1 Axes>"
      ]
     },
     "metadata": {},
     "output_type": "display_data"
    }
   ],
   "source": [
    "input_size = x_train.shape[1]\n",
    "models = myDeeperNeuralNet(input_size)\n",
    "deep_model = training_loop(100, models, 0.0001, 32)"
   ]
  },
  {
   "cell_type": "code",
   "execution_count": 46,
   "metadata": {},
   "outputs": [],
   "source": [
    "# Try CNN\n",
    "class DeepCNN(nn.Module):\n",
    "    def __init__(self, input_dim):\n",
    "        super(DeepCNN, self).__init__()\n",
    "        self.conv1 = nn.Conv1d(in_channels=1, out_channels=32, kernel_size=3, padding=1)\n",
    "        self.conv2 = nn.Conv1d(in_channels=32, out_channels=64, kernel_size=3, padding=1)\n",
    "        self.conv3 = nn.Conv1d(in_channels=64, out_channels=128, kernel_size=3, padding=1)\n",
    "        self.conv4 = nn.Conv1d(in_channels=128, out_channels=256, kernel_size=3, padding=1)\n",
    "        self.pool = nn.MaxPool1d(kernel_size=2, stride=2)\n",
    "        self.fc1 = nn.Linear(256 * (input_dim // 16), 512)\n",
    "        self.fc2 = nn.Linear(512, 256)\n",
    "        self.fc3 = nn.Linear(256, 4)\n",
    "        \n",
    "    def forward(self, x):\n",
    "        x = x.unsqueeze(1)\n",
    "        x = F.relu(self.conv1(x))\n",
    "        x = self.pool(x)\n",
    "        x = F.relu(self.conv2(x))\n",
    "        x = self.pool(x)\n",
    "        x = F.relu(self.conv3(x))\n",
    "        x = self.pool(x)\n",
    "        x = F.relu(self.conv4(x))\n",
    "        x = self.pool(x)\n",
    "        x = torch.flatten(x, 1)\n",
    "        x = F.relu(self.fc1(x))\n",
    "        x = F.relu(self.fc2(x))\n",
    "        x = self.fc3(x)\n",
    "        return x\n",
    "ada_cnn = DeepCNN(x_train.shape[1])"
   ]
  },
  {
   "cell_type": "code",
   "execution_count": 47,
   "metadata": {},
   "outputs": [
    {
     "name": "stdout",
     "output_type": "stream",
     "text": [
      "Epoch 5 - Train Accuracy: 0.9982091079652056\n",
      "Epoch 5 - Train Loss: 0.006657351483584157, Test Loss: 1.6410240295959349\n",
      "Epoch 5 - Test Accuracy: 0.8005142990727032\n",
      "Epoch 10 - Train Accuracy: 0.9991471942691454\n",
      "Epoch 10 - Train Loss: 0.0035856160369240817, Test Loss: 1.8065150182193785\n",
      "Epoch 10 - Test Accuracy: 0.8142289410114548\n",
      "Epoch 15 - Train Accuracy: 0.9993859798737847\n",
      "Epoch 15 - Train Loss: 0.0025035650052974037, Test Loss: 1.9397911623639255\n",
      "Epoch 15 - Test Accuracy: 0.8036312631496922\n"
     ]
    },
    {
     "data": {
      "image/png": "[encoded data removed]",
      "text/plain": [
       "<Figure size 640x480 with 1 Axes>"
      ]
     },
     "metadata": {},
     "output_type": "display_data"
    }
   ],
   "source": [
    "input_size = x_train.shape[1]    \n",
    "models = DeepCNN(input_size)\n",
    "cnn_model = training_loop(15, models, 0.00004, 64)"
   ]
  },
  {
   "cell_type": "markdown",
   "metadata": {},
   "source": [
    "## Max Voting"
   ]
  },
  {
   "cell_type": "code",
   "execution_count": 48,
   "metadata": {},
   "outputs": [],
   "source": [
    "from collections import Counter\n",
    "\n",
    "test_loader = DataLoader(test_dataset, batch_size=64, shuffle=False)\n",
    "\n",
    "def max_voting(*args):\n",
    "    # Transpose to get a list of predictions for each example\n",
    "    predictions = torch.stack(args).permute(1, 0, 2)\n",
    "    # Apply max voting\n",
    "    final_predictions = torch.tensor([Counter(predictions[i].argmax(dim=1).tolist()).most_common(1)[0][0] for i in range(predictions.shape[0])])\n",
    "    return final_predictions\n",
    "\n",
    "ground_truths = []\n",
    "predictions = []\n",
    "with torch.no_grad():\n",
    "    for inputs, labels in test_loader:\n",
    "        # Assuming each model outputs logits for each class\n",
    "        inputs = inputs.to(device)  # Move inputs to the correct device\n",
    "        labels = labels.to(device)  # Move labels to the correct device if they're used later\n",
    "        outputs1 = best_model(inputs)\n",
    "        outputs2 = deep_model(inputs)\n",
    "        outputs3 = cnn_model(inputs)\n",
    "        \n",
    "        # Get predictions\n",
    "        voted_predictions  = max_voting(outputs1, outputs2, outputs3)\n",
    "        predictions.extend(voted_predictions.cpu().tolist())\n",
    "        ground_truths.extend(labels.cpu().numpy())\n",
    "\n",
    "# Convert all_predictions to a tensor if needed\n",
    "import numpy as np\n",
    "predictions = np.array(predictions)\n",
    "ground_truths = np.array(ground_truths)"
   ]
  },
  {
   "cell_type": "code",
   "execution_count": 49,
   "metadata": {},
   "outputs": [
    {
     "name": "stdout",
     "output_type": "stream",
     "text": [
      "Accuracy: 0.8084625574690252\n",
      "Precision: 0.6271282009105743\n",
      "Recall: 0.5801811011368561\n",
      "F1 Score: 0.5849345327981171\n",
      "Confusion Matrix:\n",
      " [[6932  348  124   54]\n",
      " [ 363 1989   69    0]\n",
      " [ 717  592 1445    0]\n",
      " [   3  125   63    9]]\n"
     ]
    }
   ],
   "source": [
    "from sklearn.metrics import accuracy_score, precision_score, recall_score, f1_score, confusion_matrix\n",
    "\n",
    "# Calculate metrics\n",
    "accuracy = accuracy_score(ground_truths, predictions)\n",
    "precision = precision_score(ground_truths, predictions, average='macro')  # 'macro' averages across classes\n",
    "recall = recall_score(ground_truths, predictions, average='macro')\n",
    "f1 = f1_score(ground_truths, predictions, average='macro')\n",
    "conf_matrix = confusion_matrix(ground_truths, predictions)\n",
    "\n",
    "# Print the metrics\n",
    "print(\"Accuracy:\", accuracy)\n",
    "print(\"Precision:\", precision)\n",
    "print(\"Recall:\", recall)\n",
    "print(\"F1 Score:\", f1)\n",
    "print(\"Confusion Matrix:\\n\", conf_matrix)"
   ]
  },
  {
   "cell_type": "markdown",
   "metadata": {},
   "source": [
    "## Ada Boost"
   ]
  },
  {
   "cell_type": "code",
   "execution_count": 50,
   "metadata": {},
   "outputs": [],
   "source": [
    "def initialize_weights(labels, weights_distribution):\n",
    "    # Convert labels to a tensor if they aren't already\n",
    "    labels = torch.tensor(labels)\n",
    "    \n",
    "    # Map each label to its corresponding weight\n",
    "    weights = torch.tensor([weights_distribution[label] for label in labels])\n",
    "    \n",
    "    # Normalize weights to make sure they sum to 1\n",
    "    weights /= weights.sum()\n",
    "    \n",
    "    return weights"
   ]
  },
  {
   "cell_type": "code",
   "execution_count": 51,
   "metadata": {},
   "outputs": [],
   "source": [
    "\n",
    "models = [ada_mlp, ada_cnn, ada_deep]\n",
    "for model in models:\n",
    "    model = model.to(device)\n",
    "import torch.optim as optim\n",
    "\n",
    "def adaboost_train(models, train_loader, num_iterations=5, learning_rate=0.001,weights_distribution=[0.0, 0.2, 0.2, 0.6]):\n",
    "    # Gather all labels to set initial weights based on class\n",
    "    labels = torch.tensor([label for _, label in train_loader.dataset], dtype=torch.long)\n",
    "    \n",
    "    # Ensure labels are on the correct device\n",
    "    labels = labels.to(device)\n",
    "    \n",
    "    # Create initial weights array based on the provided distribution\n",
    "    initial_weights = torch.tensor([weights_distribution[label.item()] for label in labels], dtype=torch.float)\n",
    "    initial_weights = initial_weights.to(device)\n",
    "\n",
    "    # Normalize initial weights\n",
    "    sample_weights = initial_weights / initial_weights.sum()\n",
    "    sample_weights = sample_weights.to(device)\n",
    "    for model in models:\n",
    "        model.to(device)\n",
    "        optimizer = optim.Adam(model.parameters(), lr=learning_rate)\n",
    "        for epoch in range(num_iterations):\n",
    "            model.train()\n",
    "            for i, (data, target) in enumerate(train_loader):\n",
    "                data, target = data.to(device), target.to(device)\n",
    "                optimizer.zero_grad()\n",
    "                output = model(data)\n",
    "                loss = F.nll_loss(torch.log(output), target, reduction='none')\n",
    "\n",
    "                # Retrieve sample weights for the current batch\n",
    "                current_weights = sample_weights[i * len(data):(i+1) * len(data)]\n",
    "                weighted_loss = (loss * current_weights).mean()\n",
    "                weighted_loss.backward()\n",
    "                optimizer.step()\n",
    "\n",
    "            # Update sample weights after each model\n",
    "            model.eval()\n",
    "            with torch.no_grad():\n",
    "                for i, (data, target) in enumerate(train_loader):\n",
    "                    data, target = data.to(device), target.to(device)\n",
    "                    output = model(data)\n",
    "                    pred = output.argmax(dim=1, keepdim=True)\n",
    "                    incorrect = pred.ne(target.view_as(pred)).float()\n",
    "\n",
    "                    # Update weights: Increase more for misclassified instances\n",
    "                    error_updates = torch.exp(0.5 * incorrect.squeeze() * initial_weights[i * len(data):(i+1) * len(data)])\n",
    "                    sample_weights[i * len(data):(i+1) * len(data)] *= error_updates\n",
    "\n",
    "                # Normalize weights\n",
    "                sample_weights /= sample_weights.sum()\n",
    "\n",
    "    return models"
   ]
  },
  {
   "cell_type": "code",
   "execution_count": 52,
   "metadata": {},
   "outputs": [],
   "source": [
    "train_loader = DataLoader(train_dataset, batch_size=64, shuffle=False)\n",
    "test_loader = DataLoader(test_dataset, batch_size=64, shuffle=False)\n",
    "\n",
    "ada_models = adaboost_train(models, train_loader)"
   ]
  },
  {
   "cell_type": "code",
   "execution_count": 53,
   "metadata": {},
   "outputs": [],
   "source": [
    "def ensemble_predict(models, loader, device):\n",
    "    total_predictions = []\n",
    "    with torch.no_grad():\n",
    "        for data, _ in loader:\n",
    "            data = data.to(device)\n",
    "            # Collect predictions from all models\n",
    "            predictions = [model(data).softmax(dim=1) for model in models]\n",
    "            # Average the probabilities\n",
    "            avg_predictions = torch.mean(torch.stack(predictions), dim=0)\n",
    "            # Get the final predicted class\n",
    "            _, predicted_classes = torch.max(avg_predictions, dim=1)\n",
    "            total_predictions.extend(predicted_classes.cpu().numpy())\n",
    "    return total_predictions"
   ]
  },
  {
   "cell_type": "code",
   "execution_count": 54,
   "metadata": {},
   "outputs": [
    {
     "name": "stdout",
     "output_type": "stream",
     "text": [
      "Confusion Matrix:\n",
      " [[7458    0    0    0]\n",
      " [2421    0    0    0]\n",
      " [2754    0    0    0]\n",
      " [ 200    0    0    0]]\n",
      "F1 Score: 0.42721167090523066\n",
      "Accuracy: 0.5811579521546014\n"
     ]
    }
   ],
   "source": [
    "from sklearn.metrics import confusion_matrix, f1_score, accuracy_score\n",
    "import numpy as np\n",
    "\n",
    "# Assuming test_loader is already defined and device is set\n",
    "predicted_labels = ensemble_predict(ada_models, test_loader, device)\n",
    "\n",
    "# Get true labels from the test set\n",
    "true_labels = np.array([label for _, label in test_loader.dataset])\n",
    "\n",
    "# Calculate confusion matrix\n",
    "conf_matrix = confusion_matrix(true_labels, predicted_labels)\n",
    "\n",
    "# Calculate F1 score\n",
    "f1 = f1_score(true_labels, predicted_labels, average='weighted')  # 'weighted' for multi-class\n",
    "accuracy = accuracy_score(true_labels, predicted_labels)\n",
    "\n",
    "print(\"Confusion Matrix:\\n\", conf_matrix)\n",
    "print(\"F1 Score:\", f1)\n",
    "print(\"Accuracy:\", accuracy)"
   ]
  },
  {
   "cell_type": "markdown",
   "metadata": {},
   "source": [
    "## Stacking"
   ]
  },
  {
   "cell_type": "code",
   "execution_count": 56,
   "metadata": {},
   "outputs": [
    {
     "name": "stdout",
     "output_type": "stream",
     "text": [
      "F1 Score: 0.6087735962539095\n",
      "Accuracy: 0.798877892932284\n",
      "Stacking Meta-Learner Confusion Matrix:\n",
      " [[6689  299   92  378]\n",
      " [ 244 2103   57   17]\n",
      " [ 650  668 1411   25]\n",
      " [   1  120   30   49]]\n"
     ]
    }
   ],
   "source": [
    "import torch\n",
    "import numpy as np\n",
    "from torch.utils.data import DataLoader, TensorDataset\n",
    "from sklearn.linear_model import LogisticRegression\n",
    "from sklearn.preprocessing import StandardScaler\n",
    "from sklearn.metrics import accuracy_score, f1_score, confusion_matrix\n",
    "\n",
    "# Assuming models are already trained and are best_model, deep_model, cnn_model\n",
    "train_loader = DataLoader(train_dataset, batch_size=64, shuffle=False)\n",
    "test_loader = DataLoader(test_dataset, batch_size=64, shuffle=False)\n",
    "\n",
    "def get_predictions(models, loader, device):\n",
    "    all_predictions = []\n",
    "    all_labels = []\n",
    "    with torch.no_grad():\n",
    "        for inputs, labels in loader:\n",
    "            inputs = inputs.to(device)\n",
    "            outputs = [model(inputs).softmax(dim=1) for model in models]\n",
    "            all_predictions.append(torch.cat(outputs, dim=1))  # Concatenate along feature dimension\n",
    "            all_labels.extend(labels.cpu().numpy())\n",
    "    return torch.cat(all_predictions, dim=0).cpu().numpy(), np.array(all_labels)\n",
    "\n",
    "# Collect train and test predictions from each model\n",
    "train_predictions, train_true = get_predictions([best_model, deep_model, cnn_model], train_loader, device)\n",
    "test_predictions, test_true = get_predictions([best_model, deep_model, cnn_model], test_loader, device)\n",
    "\n",
    "# Scale the predictions since logistic regression benefits from feature scaling\n",
    "scaler = StandardScaler()\n",
    "train_predictions_scaled = scaler.fit_transform(train_predictions)\n",
    "test_predictions_scaled = scaler.transform(test_predictions)\n",
    "\n",
    "# Meta-learner\n",
    "meta_learner = LogisticRegression()\n",
    "meta_learner.fit(train_predictions_scaled, train_true)\n",
    "\n",
    "# Make predictions\n",
    "meta_predictions = meta_learner.predict(test_predictions_scaled)\n",
    "\n",
    "# Calculate performance metrics\n",
    "accuracy = accuracy_score(test_true, meta_predictions)\n",
    "f1 = f1_score(test_true, meta_predictions, average='macro')\n",
    "conf_matrix = confusion_matrix(test_true, meta_predictions)\n",
    "\n",
    "# Print the metrics\n",
    "print(\"F1 Score:\", f1)\n",
    "print(\"Accuracy:\", accuracy)\n",
    "print(\"Stacking Meta-Learner Confusion Matrix:\\n\", conf_matrix)\n"
   ]
  },
  {
   "cell_type": "code",
   "execution_count": null,
   "metadata": {},
   "outputs": [],
   "source": []
  }
 ],
 "metadata": {
  "kernelspec": {
   "display_name": "Python 3",
   "language": "python",
   "name": "python3"
  },
  "language_info": {
   "codemirror_mode": {
    "name": "ipython",
    "version": 3
   },
   "file_extension": ".py",
   "mimetype": "text/x-python",
   "name": "python",
   "nbconvert_exporter": "python",
   "pygments_lexer": "ipython3",
   "version": "3.11.4"
  }
 },
 "nbformat": 4,
 "nbformat_minor": 2
}
