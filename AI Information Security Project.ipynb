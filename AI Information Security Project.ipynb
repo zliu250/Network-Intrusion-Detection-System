{
  "cells": [
    {
      "cell_type": "markdown",
      "metadata": {
        "id": "ybJbLN0JzWw_"
      },
      "source": [
        "# 1. Data Ingestion and Preprocess\n"
      ]
    },
    {
      "cell_type": "code",
      "execution_count": 1,
      "metadata": {
        "id": "CvmFYM6LzWxC"
      },
      "outputs": [],
      "source": [
        "import pyspark\n",
        "from pyspark.sql import SparkSession, SQLContext\n",
        "from pyspark.ml import Pipeline,Transformer\n",
        "from pyspark.ml.feature import Imputer,StandardScaler,StringIndexer,OneHotEncoder, VectorAssembler\n",
        "\n",
        "from pyspark.sql.functions import *\n",
        "from pyspark.sql.types import *\n",
        "import numpy as np\n",
        "\n",
        "col_names = [\"duration\",\"protocol_type\",\"service\",\"flag\",\"src_bytes\",\n",
        "\"dst_bytes\",\"land\",\"wrong_fragment\",\"urgent\",\"hot\",\"num_failed_logins\",\n",
        "\"logged_in\",\"num_compromised\",\"root_shell\",\"su_attempted\",\"num_root\",\n",
        "\"num_file_creations\",\"num_shells\",\"num_access_files\",\"num_outbound_cmds\",\n",
        "\"is_host_login\",\"is_guest_login\",\"count\",\"srv_count\",\"serror_rate\",\n",
        "\"srv_serror_rate\",\"rerror_rate\",\"srv_rerror_rate\",\"same_srv_rate\",\n",
        "\"diff_srv_rate\",\"srv_diff_host_rate\",\"dst_host_count\",\"dst_host_srv_count\",\n",
        "\"dst_host_same_srv_rate\",\"dst_host_diff_srv_rate\",\"dst_host_same_src_port_rate\",\n",
        "\"dst_host_srv_diff_host_rate\",\"dst_host_serror_rate\",\"dst_host_srv_serror_rate\",\n",
        "\"dst_host_rerror_rate\",\"dst_host_srv_rerror_rate\",\"class\",\"difficulty\"]\n",
        "\n",
        "nominal_cols = ['protocol_type','service','flag']\n",
        "binary_cols = ['land', 'logged_in', 'root_shell', 'su_attempted', 'is_host_login',\n",
        "'is_guest_login']\n",
        "continuous_cols = ['duration' ,'src_bytes', 'dst_bytes', 'wrong_fragment' ,'urgent', 'hot',\n",
        "'num_failed_logins', 'num_compromised', 'num_root' ,'num_file_creations',\n",
        "'num_shells', 'num_access_files', 'num_outbound_cmds', 'count' ,'srv_count',\n",
        "'serror_rate', 'srv_serror_rate' ,'rerror_rate' ,'srv_rerror_rate',\n",
        "'same_srv_rate', 'diff_srv_rate', 'srv_diff_host_rate' ,'dst_host_count',\n",
        "'dst_host_srv_count' ,'dst_host_same_srv_rate' ,'dst_host_diff_srv_rate',\n",
        "'dst_host_same_src_port_rate' ,'dst_host_srv_diff_host_rate',\n",
        "'dst_host_serror_rate' ,'dst_host_srv_serror_rate', 'dst_host_rerror_rate',\n",
        "'dst_host_srv_rerror_rate']\n",
        "\n",
        "outcome_dict = {\n",
        "'normal': 'normal',\n",
        "'back': 'DoS',\n",
        "'land': 'DoS',\n",
        "'neptune': 'DoS',\n",
        "'pod': 'DoS',\n",
        "'smurf': 'DoS',\n",
        "'teardrop': 'DoS',\n",
        "'mailbomb': 'DoS',\n",
        "'apache2': 'DoS',\n",
        "'processtable': 'DoS',\n",
        "'udpstorm': 'DoS',\n",
        "'ipsweep': 'Probe',\n",
        "'nmap': 'Probe',\n",
        "'portsweep': 'Probe',\n",
        "'satan': 'Probe',\n",
        "'mscan': 'Probe',\n",
        "'saint': 'Probe',\n",
        "'ftp_write': 'R2L',\n",
        "'guess_passwd': 'R2L',\n",
        "'imap': 'R2L',\n",
        "'multihop': 'R2L',\n",
        "'phf': 'R2L',\n",
        "'spy': 'R2L',\n",
        "'warezclient': 'R2L',\n",
        "'warezmaster': 'R2L',\n",
        "'sendmail': 'R2L',\n",
        "'named': 'R2L',\n",
        "'snmpgetattack': 'R2L',\n",
        "'snmpguess': 'R2L',\n",
        "'xlock': 'R2L',\n",
        "'xsnoop': 'R2L',\n",
        "'worm': 'R2L',\n",
        "'buffer_overflow': 'U2R',\n",
        "'loadmodule': 'U2R',\n",
        "'perl': 'U2R',\n",
        "'rootkit': 'U2R',\n",
        "'httptunnel': 'U2R',\n",
        "'ps': 'U2R',\n",
        "'sqlattack': 'U2R',\n",
        "'xterm': 'U2R'\n",
        "}\n",
        "\n",
        "outcome_dict_numeric = {\n",
        "\"normal\": 1.0,\n",
        "\"DoS\": 2.0,\n",
        "\"Probe\": 3.0,\n",
        "\"R2L\": 4.0,\n",
        "\"U2R\": 5.0\n",
        "}\n",
        "outcome_names = [\"normal\",\"DoS\",\"Probe\",\"R2L\",\"U2R\"]\n",
        "outcome_names_int = [1.0,2.0,3.0,4.0,5.0]\n",
        "\n",
        "class OutcomeCreater(Transformer): # this defines a transformer that creates the outcome column\n",
        "  def __init__(self):\n",
        "    super().__init__()\n",
        "\n",
        "  def _transform(self, dataset):\n",
        "    label_to_binary = udf(lambda name:outcome_dict_numeric[outcome_dict[name]])\n",
        "    output_df = dataset.withColumn('outcome',label_to_binary(col('class'))).drop(\"class\")\n",
        "    output_df = output_df.withColumn('outcome', col('outcome').cast(DoubleType()))\n",
        "    output_df = output_df.drop('difficulty')\n",
        "    return output_df\n",
        "\n",
        "\n",
        "class FeatureTypeCaster(Transformer): # this transformer will cast the columns as appropriate types\n",
        "    def __init__(self):\n",
        "        super().__init__()\n",
        "\n",
        "    def _transform(self, dataset):\n",
        "        output_df = dataset\n",
        "        for col_name in binary_cols + continuous_cols:\n",
        "            output_df = output_df.withColumn(col_name,col(col_name).cast(DoubleType()))\n",
        "\n",
        "        return output_df\n",
        "class ColumnDropper(Transformer): # this transformer drops unnecessary columns\n",
        "    def __init__(self, columns_to_drop = None):\n",
        "        super().__init__()\n",
        "        self.columns_to_drop=columns_to_drop\n",
        "    def _transform(self, dataset):\n",
        "        output_df = dataset\n",
        "        for col_name in self.columns_to_drop:\n",
        "            output_df = output_df.drop(col_name)\n",
        "        return output_df\n",
        "\n",
        "def get_preprocess_pipeline():\n",
        "    # Stage where columns are casted as appropriate types\n",
        "    stage_typecaster = FeatureTypeCaster()\n",
        "\n",
        "    # Stage where nominal columns are transformed to index columns using StringIndexer\n",
        "    nominal_id_cols = [x+\"_index\" for x in nominal_cols]\n",
        "    nominal_onehot_cols = [x+\"_encoded\" for x in nominal_cols]\n",
        "    stage_nominal_indexer = StringIndexer(inputCols = nominal_cols, outputCols = nominal_id_cols )\n",
        "\n",
        "    # Stage where the index columns are further transformed using OneHotEncoder\n",
        "    stage_nominal_onehot_encoder = OneHotEncoder(inputCols=nominal_id_cols, outputCols=nominal_onehot_cols)\n",
        "\n",
        "    # Stage where all relevant features are assembled into a vector (and dropping a few)\n",
        "    feature_cols = continuous_cols+binary_cols+nominal_onehot_cols\n",
        "    corelated_cols_to_remove = [\"dst_host_serror_rate\",\"srv_serror_rate\",\"dst_host_srv_serror_rate\",\n",
        "                     \"srv_rerror_rate\",\"dst_host_rerror_rate\",\"dst_host_srv_rerror_rate\"]\n",
        "    for col_name in corelated_cols_to_remove:\n",
        "        feature_cols.remove(col_name)\n",
        "    stage_vector_assembler = VectorAssembler(inputCols=feature_cols, outputCol=\"vectorized_features\")\n",
        "\n",
        "    # Stage where we scale the columns\n",
        "    stage_scaler = StandardScaler(inputCol= 'vectorized_features', outputCol= 'features')\n",
        "\n",
        "\n",
        "    # Stage for creating the outcome column representing whether there is attack\n",
        "    stage_outcome = OutcomeCreater()\n",
        "\n",
        "    # Removing all unnecessary columbs, only keeping the 'features' and 'outcome' columns\n",
        "    stage_column_dropper = ColumnDropper(columns_to_drop = nominal_cols+nominal_id_cols+\n",
        "        nominal_onehot_cols+ binary_cols + continuous_cols + ['vectorized_features'])\n",
        "    # Connect the columns into a pipeline\n",
        "    pipeline = Pipeline(stages=[stage_typecaster,stage_nominal_indexer,stage_nominal_onehot_encoder,\n",
        "        stage_vector_assembler,stage_scaler,stage_outcome,stage_column_dropper])\n",
        "    return pipeline"
      ]
    },
    {
      "cell_type": "markdown",
      "metadata": {
        "id": "g6pwaZyOzWxE"
      },
      "source": [
        "## 2.1 Load the training and test dataframe using the pipeline"
      ]
    },
    {
      "cell_type": "code",
      "execution_count": 2,
      "metadata": {
        "id": "NVDfjMSozWxE"
      },
      "outputs": [],
      "source": [
        "import findspark\n",
        "findspark.init()\n",
        "findspark.find()\n",
        "\n",
        "import os\n",
        "import sys\n",
        "\n",
        "spark = SparkSession.builder \\\n",
        "    .master(\"local[*]\") \\\n",
        "    .appName(\"IntrusionDetectionProject\") \\\n",
        "    .getOrCreate()\n",
        "\n",
        "nslkdd_raw = spark.read.csv('./KDDTrain+.txt',header=False).toDF(*col_names)\n",
        "nslkdd_test_raw = spark.read.csv('./KDDTest+.txt',header=False).toDF(*col_names)\n",
        "\n",
        "preprocess_pipeline = get_preprocess_pipeline()\n",
        "preprocess_pipeline_model = preprocess_pipeline.fit(nslkdd_raw)\n",
        "\n",
        "nslkdd_df = preprocess_pipeline_model.transform(nslkdd_raw)\n",
        "nslkdd_df_test = preprocess_pipeline_model.transform(nslkdd_test_raw)\n",
        "\n"
      ]
    },
    {
      "cell_type": "code",
      "execution_count": 3,
      "metadata": {
        "colab": {
          "base_uri": "https://localhost:8080/"
        },
        "id": "2mK0M7-9zWxE",
        "outputId": "596ca0f9-cff7-4a42-ac43-d0956fbc2b91"
      },
      "outputs": [
        {
          "name": "stdout",
          "output_type": "stream",
          "text": [
            "root\n",
            " |-- features: vector (nullable = true)\n",
            " |-- outcome: double (nullable = true)\n",
            "\n",
            "+--------------------+-------+\n",
            "|            features|outcome|\n",
            "+--------------------+-------+\n",
            "|(113,[1,13,14,17,...|    1.0|\n",
            "|(113,[1,13,14,17,...|    1.0|\n",
            "|(113,[13,14,15,17...|    2.0|\n",
            "|(113,[1,2,13,14,1...|    1.0|\n",
            "|(113,[1,2,13,14,1...|    1.0|\n",
            "|(113,[13,14,16,17...|    2.0|\n",
            "|(113,[13,14,15,17...|    2.0|\n",
            "|(113,[13,14,15,17...|    2.0|\n",
            "|(113,[13,14,15,17...|    2.0|\n",
            "|(113,[13,14,15,17...|    2.0|\n",
            "|(113,[13,14,16,17...|    2.0|\n",
            "|(113,[13,14,15,17...|    2.0|\n",
            "|(113,[1,2,13,14,1...|    1.0|\n",
            "|(113,[1,13,14,17,...|    4.0|\n",
            "|(113,[13,14,15,18...|    2.0|\n",
            "|(113,[13,14,15,17...|    2.0|\n",
            "|(113,[1,2,13,14,1...|    1.0|\n",
            "|(113,[1,13,14,17,...|    3.0|\n",
            "|(113,[1,2,13,14,1...|    1.0|\n",
            "|(113,[1,2,13,14,1...|    1.0|\n",
            "+--------------------+-------+\n",
            "only showing top 20 rows\n",
            "\n"
          ]
        }
      ],
      "source": [
        "nslkdd_df.printSchema()\n",
        "nslkdd_df.show()\n"
      ]
    },
    {
      "cell_type": "code",
      "execution_count": 4,
      "metadata": {
        "colab": {
          "base_uri": "https://localhost:8080/"
        },
        "id": "W2y25zaxzWxF",
        "outputId": "565dbf94-121f-4413-8d88-dfb452e8ad9d"
      },
      "outputs": [
        {
          "name": "stdout",
          "output_type": "stream",
          "text": [
            "root\n",
            " |-- features: vector (nullable = true)\n",
            " |-- outcome: double (nullable = true)\n",
            "\n",
            "+--------------------+-------+\n",
            "|            features|outcome|\n",
            "+--------------------+-------+\n",
            "|(113,[13,14,16,17...|    2.0|\n",
            "+--------------------+-------+\n",
            "only showing top 1 row\n",
            "\n"
          ]
        }
      ],
      "source": [
        "nslkdd_df_test.printSchema()\n",
        "nslkdd_df_test.show(1)"
      ]
    },
    {
      "cell_type": "markdown",
      "metadata": {
        "id": "-yMWgb__zWxG"
      },
      "source": [
        "## Random Forest Classifier For Benchmarking"
      ]
    },
    {
      "cell_type": "code",
      "execution_count": 5,
      "metadata": {
        "colab": {
          "base_uri": "https://localhost:8080/"
        },
        "id": "Shs3_FkIzWxG",
        "outputId": "968646ac-c2b8-4b40-b13f-d0ab02992e4a"
      },
      "outputs": [
        {
          "name": "stdout",
          "output_type": "stream",
          "text": [
            "Train: 0.9712239924428251\n",
            "Test: 0.7138484740951029\n"
          ]
        }
      ],
      "source": [
        "from pyspark.ml.classification import RandomForestClassifier\n",
        "from pyspark.ml.evaluation import MulticlassClassificationEvaluator\n",
        "\n",
        "rf = RandomForestClassifier(featuresCol='features', labelCol='outcome')\n",
        "\n",
        "rf_model = rf.fit(nslkdd_df)\n",
        "\n",
        "train_pred = rf_model.transform(nslkdd_df)\n",
        "test_pred = rf_model.transform(nslkdd_df_test)\n",
        "\n",
        "evaluator = MulticlassClassificationEvaluator(labelCol=\"outcome\", predictionCol=\"prediction\", metricName=\"accuracy\")\n",
        "\n",
        "train_acc = evaluator.evaluate(train_pred)\n",
        "test_acc = evaluator.evaluate(test_pred)\n",
        "\n",
        "print(f\"Train: {train_acc}\")\n",
        "print(f\"Test: {test_acc}\")"
      ]
    },
    {
      "cell_type": "code",
      "execution_count": 6,
      "metadata": {
        "colab": {
          "base_uri": "https://localhost:8080/",
          "height": 504
        },
        "id": "LNcTn5IozWxG",
        "outputId": "4a7f38c3-d3dc-411f-a1c5-eca548ca0c1e"
      },
      "outputs": [
        {
          "data": {
            "text/plain": [
              "Text(0.5, 25.722222222222214, 'Predicted')"
            ]
          },
          "execution_count": 6,
          "metadata": {},
          "output_type": "execute_result"
        },
        {
          "data": {
            "image/png": "[encoded data removed]",
            "text/plain": [
              "<Figure size 500x500 with 2 Axes>"
            ]
          },
          "metadata": {},
          "output_type": "display_data"
        }
      ],
      "source": [
        "predictions_pd = test_pred.select('outcome', 'prediction').toPandas()\n",
        "\n",
        "# import plt\n",
        "import matplotlib.pyplot as plt\n",
        "import seaborn as sns\n",
        "\n",
        "# Plot the confusion matrix\n",
        "from sklearn.metrics import confusion_matrix\n",
        "cm = confusion_matrix(predictions_pd['outcome'], predictions_pd['prediction'])\n",
        "plt.figure(figsize=(5,5))\n",
        "sns.heatmap(cm, annot=True, fmt=\"d\")\n",
        "plt.title('Confusion Matrix')\n",
        "plt.xlabel('Predicted')\n"
      ]
    },
    {
      "cell_type": "code",
      "execution_count": 7,
      "metadata": {},
      "outputs": [],
      "source": [
        "# Reduce the dataset size to run grid search\n",
        "reduced_nslkdd_df = nslkdd_df.sample(False, 0.2, 57)\n",
        "reduced_nslkdd_df_test = nslkdd_df_test.sample(False, 0.2, 57)"
      ]
    },
    {
      "cell_type": "code",
      "execution_count": 8,
      "metadata": {
        "colab": {
          "base_uri": "https://localhost:8080/"
        },
        "id": "1YWRzJsEzWxH",
        "outputId": "275e284b-e57a-4680-e50e-cfe06d3b1a92"
      },
      "outputs": [
        {
          "name": "stdout",
          "output_type": "stream",
          "text": [
            "Train Acc: 0.9988493889858753\n",
            "Test Acc: 0.738177874186551\n"
          ]
        }
      ],
      "source": [
        "# Perform a grid search to find the best hyperparameters\n",
        "from pyspark.ml.tuning import ParamGridBuilder, CrossValidator\n",
        "\n",
        "paramGrid = (ParamGridBuilder()\n",
        "                .addGrid(rf.maxDepth, [5, 15, 25])\n",
        "                .addGrid(rf.impurity, [\"gini\", \"entropy\"])\n",
        "                .addGrid(rf.minInstancesPerNode, [1, 5, 10])\n",
        "                .addGrid(rf.numTrees, [5, 50, 100])\n",
        "                .build())\n",
        "\n",
        "cv = CrossValidator(estimator=rf, estimatorParamMaps=paramGrid, evaluator=evaluator, numFolds=5)\n",
        "\n",
        "cv_model = cv.fit(reduced_nslkdd_df)\n",
        "\n",
        "train_pred = cv_model.transform(reduced_nslkdd_df)\n",
        "test_pred = cv_model.transform(reduced_nslkdd_df_test)\n",
        "\n",
        "train_acc = evaluator.evaluate(train_pred)\n",
        "test_acc = evaluator.evaluate(test_pred)\n",
        "\n",
        "print(f\"Train Acc: {train_acc}\")\n",
        "print(f\"Test Acc: {test_acc}\")"
      ]
    },
    {
      "cell_type": "code",
      "execution_count": 9,
      "metadata": {
        "colab": {
          "base_uri": "https://localhost:8080/",
          "height": 504
        },
        "id": "RQDy4aoWzWxH",
        "outputId": "36f7fa42-3603-4590-d3ad-cf23146a03cb"
      },
      "outputs": [
        {
          "data": {
            "text/plain": [
              "Text(0.5, 25.722222222222214, 'Predicted')"
            ]
          },
          "execution_count": 9,
          "metadata": {},
          "output_type": "execute_result"
        },
        {
          "data": {
            "image/png": "[encoded data removed]",
            "text/plain": [
              "<Figure size 500x500 with 2 Axes>"
            ]
          },
          "metadata": {},
          "output_type": "display_data"
        }
      ],
      "source": [
        "predictions_pd = test_pred.select('outcome', 'prediction').toPandas()\n",
        "\n",
        "# import plt\n",
        "import matplotlib.pyplot as plt\n",
        "import seaborn as sns\n",
        "\n",
        "# Plot the confusion matrix\n",
        "from sklearn.metrics import confusion_matrix\n",
        "cm = confusion_matrix(predictions_pd['outcome'], predictions_pd['prediction'])\n",
        "plt.figure(figsize=(5,5))\n",
        "sns.heatmap(cm, annot=True, fmt=\"d\")\n",
        "plt.title('Confusion Matrix')\n",
        "plt.xlabel('Predicted')"
      ]
    },
    {
      "cell_type": "code",
      "execution_count": 11,
      "metadata": {},
      "outputs": [
        {
          "name": "stdout",
          "output_type": "stream",
          "text": [
            "Best Param (Max Depth):  25\n",
            "Best Param (Impurity):  gini\n",
            "Best Param (Min Instances Per Node):  1\n",
            "Best Param (Num Trees):  100\n"
          ]
        }
      ],
      "source": [
        "# final model parameters\n",
        "best_model = cv_model.bestModel\n",
        "print('Best Param (Max Depth): ', best_model._java_obj.getMaxDepth())\n",
        "print('Best Param (Impurity): ', best_model._java_obj.getImpurity())\n",
        "print('Best Param (Min Instances Per Node): ', best_model._java_obj.getMinInstancesPerNode())\n",
        "print('Best Param (Num Trees): ', best_model._java_obj.getNumTrees())"
      ]
    }
  ],
  "metadata": {
    "colab": {
      "provenance": []
    },
    "kernelspec": {
      "display_name": "Python 3 (ipykernel)",
      "language": "python",
      "name": "python3"
    },
    "language_info": {
      "codemirror_mode": {
        "name": "ipython",
        "version": 3
      },
      "file_extension": ".py",
      "mimetype": "text/x-python",
      "name": "python",
      "nbconvert_exporter": "python",
      "pygments_lexer": "ipython3",
      "version": "3.11.4"
    },
    "vscode": {
      "interpreter": {
        "hash": "8276d678390595138ef1424ae828a970263a6f746980760e1cfd17345ae3e994"
      }
    }
  },
  "nbformat": 4,
  "nbformat_minor": 0
}
