{
  "cells": [
    {
      "cell_type": "markdown",
      "metadata": {
        "id": "ybJbLN0JzWw_"
      },
      "source": [
        "# 1. Data Ingestion and Preprocess\n"
      ]
    },
    {
      "cell_type": "code",
      "execution_count": 2,
      "metadata": {
        "id": "CvmFYM6LzWxC"
      },
      "outputs": [],
      "source": [
        "import pyspark\n",
        "from pyspark.sql import SparkSession, SQLContext\n",
        "from pyspark.ml import Pipeline,Transformer\n",
        "from pyspark.ml.feature import Imputer,StandardScaler,StringIndexer,OneHotEncoder, VectorAssembler\n",
        "\n",
        "from pyspark.sql.functions import *\n",
        "from pyspark.sql.types import *\n",
        "import numpy as np\n",
        "\n",
        "col_names = [\"duration\",\"protocol_type\",\"service\",\"flag\",\"src_bytes\",\n",
        "\"dst_bytes\",\"land\",\"wrong_fragment\",\"urgent\",\"hot\",\"num_failed_logins\",\n",
        "\"logged_in\",\"num_compromised\",\"root_shell\",\"su_attempted\",\"num_root\",\n",
        "\"num_file_creations\",\"num_shells\",\"num_access_files\",\"num_outbound_cmds\",\n",
        "\"is_host_login\",\"is_guest_login\",\"count\",\"srv_count\",\"serror_rate\",\n",
        "\"srv_serror_rate\",\"rerror_rate\",\"srv_rerror_rate\",\"same_srv_rate\",\n",
        "\"diff_srv_rate\",\"srv_diff_host_rate\",\"dst_host_count\",\"dst_host_srv_count\",\n",
        "\"dst_host_same_srv_rate\",\"dst_host_diff_srv_rate\",\"dst_host_same_src_port_rate\",\n",
        "\"dst_host_srv_diff_host_rate\",\"dst_host_serror_rate\",\"dst_host_srv_serror_rate\",\n",
        "\"dst_host_rerror_rate\",\"dst_host_srv_rerror_rate\",\"class\",\"difficulty\"]\n",
        "\n",
        "nominal_cols = ['protocol_type','service','flag']\n",
        "binary_cols = ['land', 'logged_in', 'root_shell', 'su_attempted', 'is_host_login',\n",
        "'is_guest_login']\n",
        "continuous_cols = ['duration' ,'src_bytes', 'dst_bytes', 'wrong_fragment' ,'urgent', 'hot',\n",
        "'num_failed_logins', 'num_compromised', 'num_root' ,'num_file_creations',\n",
        "'num_shells', 'num_access_files', 'num_outbound_cmds', 'count' ,'srv_count',\n",
        "'serror_rate', 'srv_serror_rate' ,'rerror_rate' ,'srv_rerror_rate',\n",
        "'same_srv_rate', 'diff_srv_rate', 'srv_diff_host_rate' ,'dst_host_count',\n",
        "'dst_host_srv_count' ,'dst_host_same_srv_rate' ,'dst_host_diff_srv_rate',\n",
        "'dst_host_same_src_port_rate' ,'dst_host_srv_diff_host_rate',\n",
        "'dst_host_serror_rate' ,'dst_host_srv_serror_rate', 'dst_host_rerror_rate',\n",
        "'dst_host_srv_rerror_rate']\n",
        "\n",
        "outcome_dict = {\n",
        "'normal': 'normal',\n",
        "'back': 'DoS',\n",
        "'land': 'DoS',\n",
        "'neptune': 'DoS',\n",
        "'pod': 'DoS',\n",
        "'smurf': 'DoS',\n",
        "'teardrop': 'DoS',\n",
        "'mailbomb': 'DoS',\n",
        "'apache2': 'DoS',\n",
        "'processtable': 'DoS',\n",
        "'udpstorm': 'DoS',\n",
        "'ipsweep': 'Probe',\n",
        "'nmap': 'Probe',\n",
        "'portsweep': 'Probe',\n",
        "'satan': 'Probe',\n",
        "'mscan': 'Probe',\n",
        "'saint': 'Probe',\n",
        "'ftp_write': 'R2L',\n",
        "'guess_passwd': 'R2L',\n",
        "'imap': 'R2L',\n",
        "'multihop': 'R2L',\n",
        "'phf': 'R2L',\n",
        "'spy': 'R2L',\n",
        "'warezclient': 'R2L',\n",
        "'warezmaster': 'R2L',\n",
        "'sendmail': 'R2L',\n",
        "'named': 'R2L',\n",
        "'snmpgetattack': 'R2L',\n",
        "'snmpguess': 'R2L',\n",
        "'xlock': 'R2L',\n",
        "'xsnoop': 'R2L',\n",
        "'worm': 'R2L',\n",
        "'buffer_overflow': 'U2R',\n",
        "'loadmodule': 'U2R',\n",
        "'perl': 'U2R',\n",
        "'rootkit': 'U2R',\n",
        "'httptunnel': 'U2R',\n",
        "'ps': 'U2R',\n",
        "'sqlattack': 'U2R',\n",
        "'xterm': 'U2R'\n",
        "}\n",
        "\n",
        "outcome_dict_numeric = {\n",
        "\"normal\": 1.0,\n",
        "\"DoS\": 2.0,\n",
        "\"Probe\": 3.0,\n",
        "\"R2L\": 4.0,\n",
        "\"U2R\": 5.0\n",
        "}\n",
        "outcome_names = [\"normal\",\"DoS\",\"Probe\",\"R2L\",\"U2R\"]\n",
        "outcome_names_int = [1.0,2.0,3.0,4.0,5.0]\n",
        "\n",
        "class OutcomeCreater(Transformer): # this defines a transformer that creates the outcome column\n",
        "  def __init__(self):\n",
        "    super().__init__()\n",
        "\n",
        "  def _transform(self, dataset):\n",
        "    label_to_binary = udf(lambda name:outcome_dict_numeric[outcome_dict[name]])\n",
        "    output_df = dataset.withColumn('outcome',label_to_binary(col('class'))).drop(\"class\")\n",
        "    output_df = output_df.withColumn('outcome', col('outcome').cast(DoubleType()))\n",
        "    output_df = output_df.drop('difficulty')\n",
        "    return output_df\n",
        "\n",
        "\n",
        "class FeatureTypeCaster(Transformer): # this transformer will cast the columns as appropriate types\n",
        "    def __init__(self):\n",
        "        super().__init__()\n",
        "\n",
        "    def _transform(self, dataset):\n",
        "        output_df = dataset\n",
        "        for col_name in binary_cols + continuous_cols:\n",
        "            output_df = output_df.withColumn(col_name,col(col_name).cast(DoubleType()))\n",
        "\n",
        "        return output_df\n",
        "class ColumnDropper(Transformer): # this transformer drops unnecessary columns\n",
        "    def __init__(self, columns_to_drop = None):\n",
        "        super().__init__()\n",
        "        self.columns_to_drop=columns_to_drop\n",
        "    def _transform(self, dataset):\n",
        "        output_df = dataset\n",
        "        for col_name in self.columns_to_drop:\n",
        "            output_df = output_df.drop(col_name)\n",
        "        return output_df\n",
        "\n",
        "def get_preprocess_pipeline():\n",
        "    # Stage where columns are casted as appropriate types\n",
        "    stage_typecaster = FeatureTypeCaster()\n",
        "\n",
        "    # Stage where nominal columns are transformed to index columns using StringIndexer\n",
        "    nominal_id_cols = [x+\"_index\" for x in nominal_cols]\n",
        "    nominal_onehot_cols = [x+\"_encoded\" for x in nominal_cols]\n",
        "    stage_nominal_indexer = StringIndexer(inputCols = nominal_cols, outputCols = nominal_id_cols )\n",
        "\n",
        "    # Stage where the index columns are further transformed using OneHotEncoder\n",
        "    stage_nominal_onehot_encoder = OneHotEncoder(inputCols=nominal_id_cols, outputCols=nominal_onehot_cols)\n",
        "\n",
        "    # Stage where all relevant features are assembled into a vector (and dropping a few)\n",
        "    feature_cols = continuous_cols+binary_cols+nominal_onehot_cols\n",
        "    corelated_cols_to_remove = [\"dst_host_serror_rate\",\"srv_serror_rate\",\"dst_host_srv_serror_rate\",\n",
        "                     \"srv_rerror_rate\",\"dst_host_rerror_rate\",\"dst_host_srv_rerror_rate\"]\n",
        "    for col_name in corelated_cols_to_remove:\n",
        "        feature_cols.remove(col_name)\n",
        "    stage_vector_assembler = VectorAssembler(inputCols=feature_cols, outputCol=\"vectorized_features\")\n",
        "\n",
        "    # Stage where we scale the columns\n",
        "    stage_scaler = StandardScaler(inputCol= 'vectorized_features', outputCol= 'features')\n",
        "\n",
        "\n",
        "    # Stage for creating the outcome column representing whether there is attack\n",
        "    stage_outcome = OutcomeCreater()\n",
        "\n",
        "    # Removing all unnecessary columbs, only keeping the 'features' and 'outcome' columns\n",
        "    stage_column_dropper = ColumnDropper(columns_to_drop = nominal_cols+nominal_id_cols+\n",
        "        nominal_onehot_cols+ binary_cols + continuous_cols + ['vectorized_features'])\n",
        "    # Connect the columns into a pipeline\n",
        "    pipeline = Pipeline(stages=[stage_typecaster,stage_nominal_indexer,stage_nominal_onehot_encoder,\n",
        "        stage_vector_assembler,stage_scaler,stage_outcome,stage_column_dropper])\n",
        "    return pipeline"
      ]
    },
    {
      "cell_type": "markdown",
      "metadata": {
        "id": "g6pwaZyOzWxE"
      },
      "source": [
        "## 2.1 Load the training and test dataframe using the pipeline"
      ]
    },
    {
      "cell_type": "code",
      "execution_count": 3,
      "metadata": {
        "id": "NVDfjMSozWxE"
      },
      "outputs": [],
      "source": [
        "import findspark\n",
        "findspark.init()\n",
        "findspark.find()\n",
        "\n",
        "import os\n",
        "import sys\n",
        "\n",
        "spark = SparkSession.builder \\\n",
        "    .master(\"local[*]\") \\\n",
        "    .appName(\"IntrusionDetectionProject\") \\\n",
        "    .getOrCreate()\n",
        "\n",
        "nslkdd_raw = spark.read.csv('./KDDTrain+.txt',header=False).toDF(*col_names)\n",
        "nslkdd_test_raw = spark.read.csv('./KDDTest+.txt',header=False).toDF(*col_names)\n",
        "\n",
        "preprocess_pipeline = get_preprocess_pipeline()\n",
        "preprocess_pipeline_model = preprocess_pipeline.fit(nslkdd_raw)\n",
        "\n",
        "nslkdd_df = preprocess_pipeline_model.transform(nslkdd_raw)\n",
        "nslkdd_df_test = preprocess_pipeline_model.transform(nslkdd_test_raw)\n",
        "\n"
      ]
    },
    {
      "cell_type": "code",
      "execution_count": 4,
      "metadata": {
        "colab": {
          "base_uri": "https://localhost:8080/"
        },
        "id": "2mK0M7-9zWxE",
        "outputId": "596ca0f9-cff7-4a42-ac43-d0956fbc2b91"
      },
      "outputs": [
        {
          "name": "stdout",
          "output_type": "stream",
          "text": [
            "root\n",
            " |-- features: vector (nullable = true)\n",
            " |-- outcome: double (nullable = true)\n",
            "\n",
            "+--------------------+-------+\n",
            "|            features|outcome|\n",
            "+--------------------+-------+\n",
            "|(113,[1,13,14,17,...|    1.0|\n",
            "|(113,[1,13,14,17,...|    1.0|\n",
            "|(113,[13,14,15,17...|    2.0|\n",
            "|(113,[1,2,13,14,1...|    1.0|\n",
            "|(113,[1,2,13,14,1...|    1.0|\n",
            "|(113,[13,14,16,17...|    2.0|\n",
            "|(113,[13,14,15,17...|    2.0|\n",
            "|(113,[13,14,15,17...|    2.0|\n",
            "|(113,[13,14,15,17...|    2.0|\n",
            "|(113,[13,14,15,17...|    2.0|\n",
            "|(113,[13,14,16,17...|    2.0|\n",
            "|(113,[13,14,15,17...|    2.0|\n",
            "|(113,[1,2,13,14,1...|    1.0|\n",
            "|(113,[1,13,14,17,...|    4.0|\n",
            "|(113,[13,14,15,18...|    2.0|\n",
            "|(113,[13,14,15,17...|    2.0|\n",
            "|(113,[1,2,13,14,1...|    1.0|\n",
            "|(113,[1,13,14,17,...|    3.0|\n",
            "|(113,[1,2,13,14,1...|    1.0|\n",
            "|(113,[1,2,13,14,1...|    1.0|\n",
            "+--------------------+-------+\n",
            "only showing top 20 rows\n",
            "\n"
          ]
        }
      ],
      "source": [
        "nslkdd_df.printSchema()\n",
        "nslkdd_df.show()\n"
      ]
    },
    {
      "cell_type": "code",
      "execution_count": 4,
      "metadata": {
        "colab": {
          "base_uri": "https://localhost:8080/"
        },
        "id": "W2y25zaxzWxF",
        "outputId": "565dbf94-121f-4413-8d88-dfb452e8ad9d"
      },
      "outputs": [
        {
          "name": "stdout",
          "output_type": "stream",
          "text": [
            "root\n",
            " |-- features: vector (nullable = true)\n",
            " |-- outcome: double (nullable = true)\n",
            "\n",
            "+--------------------+-------+\n",
            "|            features|outcome|\n",
            "+--------------------+-------+\n",
            "|(113,[13,14,16,17...|    2.0|\n",
            "+--------------------+-------+\n",
            "only showing top 1 row\n",
            "\n"
          ]
        }
      ],
      "source": [
        "nslkdd_df_test.printSchema()\n",
        "nslkdd_df_test.show(1)"
      ]
    },
    {
      "cell_type": "markdown",
      "metadata": {
        "id": "-yMWgb__zWxG"
      },
      "source": [
        "## Random Forest Classifier For Benchmarking"
      ]
    },
    {
      "cell_type": "code",
      "execution_count": 8,
      "metadata": {
        "colab": {
          "base_uri": "https://localhost:8080/"
        },
        "id": "Shs3_FkIzWxG",
        "outputId": "968646ac-c2b8-4b40-b13f-d0ab02992e4a"
      },
      "outputs": [
        {
          "name": "stdout",
          "output_type": "stream",
          "text": [
            "Train: 0.9641907392854024\n",
            "Test: 0.7088804116394606\n"
          ]
        }
      ],
      "source": [
        "from pyspark.ml.classification import RandomForestClassifier\n",
        "from pyspark.ml.evaluation import MulticlassClassificationEvaluator\n",
        "\n",
        "rf = RandomForestClassifier(featuresCol='features', labelCol='outcome')\n",
        "\n",
        "rf_model = rf.fit(nslkdd_df)\n",
        "\n",
        "train_pred = rf_model.transform(nslkdd_df)\n",
        "test_pred = rf_model.transform(nslkdd_df_test)\n",
        "\n",
        "evaluator = MulticlassClassificationEvaluator(labelCol=\"outcome\", predictionCol=\"prediction\", metricName=\"accuracy\")\n",
        "\n",
        "train_acc = evaluator.evaluate(train_pred)\n",
        "test_acc = evaluator.evaluate(test_pred)\n",
        "\n",
        "print(f\"Train: {train_acc}\")\n",
        "print(f\"Test: {test_acc}\")"
      ]
    },
    {
      "cell_type": "code",
      "execution_count": 6,
      "metadata": {
        "colab": {
          "base_uri": "https://localhost:8080/",
          "height": 504
        },
        "id": "LNcTn5IozWxG",
        "outputId": "4a7f38c3-d3dc-411f-a1c5-eca548ca0c1e"
      },
      "outputs": [
        {
          "data": {
            "text/plain": [
              "Text(0.5, 25.722222222222214, 'Predicted')"
            ]
          },
          "execution_count": 6,
          "metadata": {},
          "output_type": "execute_result"
        },
        {
          "data": {
            "image/png": "[encoded data removed]",
            "text/plain": [
              "<Figure size 500x500 with 2 Axes>"
            ]
          },
          "metadata": {},
          "output_type": "display_data"
        }
      ],
      "source": [
        "predictions_pd = test_pred.select('outcome', 'prediction').toPandas()\n",
        "\n",
        "# import plt\n",
        "import matplotlib.pyplot as plt\n",
        "import seaborn as sns\n",
        "\n",
        "# Plot the confusion matrix\n",
        "from sklearn.metrics import confusion_matrix\n",
        "cm = confusion_matrix(predictions_pd['outcome'], predictions_pd['prediction'])\n",
        "plt.figure(figsize=(5,5))\n",
        "sns.heatmap(cm, annot=True, fmt=\"d\")\n",
        "plt.title('Confusion Matrix')\n",
        "plt.xlabel('Predicted')\n"
      ]
    },
    {
      "cell_type": "code",
      "execution_count": 7,
      "metadata": {},
      "outputs": [],
      "source": [
        "# Reduce the dataset size to run grid search\n",
        "reduced_nslkdd_df = nslkdd_df.sample(False, 0.2, 57)\n",
        "reduced_nslkdd_df_test = nslkdd_df_test.sample(False, 0.2, 57)"
      ]
    },
    {
      "cell_type": "code",
      "execution_count": 8,
      "metadata": {
        "colab": {
          "base_uri": "https://localhost:8080/"
        },
        "id": "1YWRzJsEzWxH",
        "outputId": "275e284b-e57a-4680-e50e-cfe06d3b1a92"
      },
      "outputs": [
        {
          "name": "stdout",
          "output_type": "stream",
          "text": [
            "Train Acc: 0.9988493889858753\n",
            "Test Acc: 0.738177874186551\n"
          ]
        }
      ],
      "source": [
        "# Perform a grid search to find the best hyperparameters\n",
        "from pyspark.ml.tuning import ParamGridBuilder, CrossValidator\n",
        "\n",
        "paramGrid = (ParamGridBuilder()\n",
        "                .addGrid(rf.maxDepth, [5, 15, 25])\n",
        "                .addGrid(rf.impurity, [\"gini\", \"entropy\"])\n",
        "                .addGrid(rf.minInstancesPerNode, [1, 5, 10])\n",
        "                .addGrid(rf.numTrees, [5, 50, 100])\n",
        "                .build())\n",
        "\n",
        "cv = CrossValidator(estimator=rf, estimatorParamMaps=paramGrid, evaluator=evaluator, numFolds=5)\n",
        "\n",
        "cv_model = cv.fit(reduced_nslkdd_df)\n",
        "\n",
        "train_pred = cv_model.transform(reduced_nslkdd_df)\n",
        "test_pred = cv_model.transform(reduced_nslkdd_df_test)\n",
        "\n",
        "train_acc = evaluator.evaluate(train_pred)\n",
        "test_acc = evaluator.evaluate(test_pred)\n",
        "\n",
        "print(f\"Train Acc: {train_acc}\")\n",
        "print(f\"Test Acc: {test_acc}\")"
      ]
    },
    {
      "cell_type": "code",
      "execution_count": 9,
      "metadata": {
        "colab": {
          "base_uri": "https://localhost:8080/",
          "height": 504
        },
        "id": "RQDy4aoWzWxH",
        "outputId": "36f7fa42-3603-4590-d3ad-cf23146a03cb"
      },
      "outputs": [
        {
          "data": {
            "text/plain": [
              "Text(0.5, 25.722222222222214, 'Predicted')"
            ]
          },
          "execution_count": 9,
          "metadata": {},
          "output_type": "execute_result"
        },
        {
          "data": {
            "image/png": "[encoded data removed]",
            "text/plain": [
              "<Figure size 500x500 with 2 Axes>"
            ]
          },
          "metadata": {},
          "output_type": "display_data"
        }
      ],
      "source": [
        "predictions_pd = test_pred.select('outcome', 'prediction').toPandas()\n",
        "\n",
        "# import plt\n",
        "import matplotlib.pyplot as plt\n",
        "import seaborn as sns\n",
        "\n",
        "# Plot the confusion matrix\n",
        "from sklearn.metrics import confusion_matrix\n",
        "cm = confusion_matrix(predictions_pd['outcome'], predictions_pd['prediction'])\n",
        "plt.figure(figsize=(5,5))\n",
        "sns.heatmap(cm, annot=True, fmt=\"d\")\n",
        "plt.title('Confusion Matrix')\n",
        "plt.xlabel('Predicted')"
      ]
    },
    {
      "cell_type": "code",
      "execution_count": 11,
      "metadata": {},
      "outputs": [
        {
          "name": "stdout",
          "output_type": "stream",
          "text": [
            "Best Param (Max Depth):  25\n",
            "Best Param (Impurity):  gini\n",
            "Best Param (Min Instances Per Node):  1\n",
            "Best Param (Num Trees):  100\n"
          ]
        }
      ],
      "source": [
        "# final model parameters\n",
        "best_model = cv_model.bestModel\n",
        "print('Best Param (Max Depth): ', best_model._java_obj.getMaxDepth())\n",
        "print('Best Param (Impurity): ', best_model._java_obj.getImpurity())\n",
        "print('Best Param (Min Instances Per Node): ', best_model._java_obj.getMinInstancesPerNode())\n",
        "print('Best Param (Num Trees): ', best_model._java_obj.getNumTrees())"
      ]
    },
    {
      "cell_type": "markdown",
      "metadata": {},
      "source": [
        "## Undersampling other features to balance the dataset"
      ]
    },
    {
      "cell_type": "code",
      "execution_count": 5,
      "metadata": {},
      "outputs": [
        {
          "name": "stdout",
          "output_type": "stream",
          "text": [
            "52\n"
          ]
        }
      ],
      "source": [
        "# Undersample the dataset to balance the classes\n",
        "min_count = nslkdd_df.groupBy('outcome').count().agg({\"count\": \"min\"}).collect()[0][0]\n",
        "print(min_count)\n",
        "\n",
        "balance_df = nslkdd_df.sampleBy('outcome', fractions={1.0: min_count/67343, 2.0: min_count/45927, 3.0: min_count/11656, 4.0: min_count/995, 5.0: min_count/52})"
      ]
    },
    {
      "cell_type": "code",
      "execution_count": 7,
      "metadata": {},
      "outputs": [
        {
          "name": "stdout",
          "output_type": "stream",
          "text": [
            "+-------+-----+\n",
            "|outcome|count|\n",
            "+-------+-----+\n",
            "|    1.0|   45|\n",
            "|    4.0|   48|\n",
            "|    3.0|   46|\n",
            "|    2.0|   61|\n",
            "|    5.0|   52|\n",
            "+-------+-----+\n",
            "\n"
          ]
        }
      ],
      "source": [
        "balance_df.groupBy('outcome').count().show()"
      ]
    },
    {
      "cell_type": "code",
      "execution_count": 12,
      "metadata": {},
      "outputs": [
        {
          "name": "stdout",
          "output_type": "stream",
          "text": [
            "Train: 1.0\n",
            "Test: 0.7644162526614621\n"
          ]
        }
      ],
      "source": [
        "# Train the model on the balanced dataset\n",
        "rf = RandomForestClassifier(featuresCol='features', labelCol='outcome', maxDepth=25, impurity='gini', minInstancesPerNode=1, numTrees=100)\n",
        "rf_model = rf.fit(balance_df)\n",
        "\n",
        "train_pred = rf_model.transform(balance_df)\n",
        "test_pred = rf_model.transform(nslkdd_df_test)\n",
        "\n",
        "train_acc = evaluator.evaluate(train_pred)\n",
        "test_acc = evaluator.evaluate(test_pred)\n",
        "\n",
        "print(f\"Train: {train_acc}\")\n",
        "print(f\"Test: {test_acc}\")"
      ]
    },
    {
      "cell_type": "code",
      "execution_count": 13,
      "metadata": {},
      "outputs": [
        {
          "data": {
            "text/plain": [
              "Text(0.5, 25.722222222222214, 'Predicted')"
            ]
          },
          "execution_count": 13,
          "metadata": {},
          "output_type": "execute_result"
        },
        {
          "data": {
            "image/png": "[encoded data removed]",
            "text/plain": [
              "<Figure size 500x500 with 2 Axes>"
            ]
          },
          "metadata": {},
          "output_type": "display_data"
        }
      ],
      "source": [
        "predictions_pd = test_pred.select('outcome', 'prediction').toPandas()\n",
        "\n",
        "# import plt\n",
        "import matplotlib.pyplot as plt\n",
        "import seaborn as sns\n",
        "\n",
        "# Plot the confusion matrix\n",
        "from sklearn.metrics import confusion_matrix\n",
        "cm = confusion_matrix(predictions_pd['outcome'], predictions_pd['prediction'])\n",
        "plt.figure(figsize=(5,5))\n",
        "sns.heatmap(cm, annot=True, fmt=\"d\")\n",
        "plt.title('Confusion Matrix')\n",
        "plt.xlabel('Predicted')"
      ]
    },
    {
      "cell_type": "markdown",
      "metadata": {},
      "source": [
        "## Convert to pytorch tensors"
      ]
    },
    {
      "cell_type": "code",
      "execution_count": 5,
      "metadata": {},
      "outputs": [],
      "source": [
        "from pyspark.sql.types import DoubleType, ArrayType\n",
        "from pyspark.sql.functions import udf\n",
        "import pandas as pd\n",
        "\n",
        "to_array = udf(lambda v: v.toArray().tolist(), ArrayType(DoubleType()))\n",
        "train_pd = nslkdd_df.withColumn(\"features\", to_array(\"features\")).toPandas()\n",
        "test_pd = nslkdd_df_test.withColumn(\"features\", to_array(\"features\")).toPandas()"
      ]
    },
    {
      "cell_type": "code",
      "execution_count": 6,
      "metadata": {},
      "outputs": [],
      "source": [
        "import torch\n",
        "import torch.nn as nn\n",
        "import torch.nn.functional as F\n",
        "import torch.optim as optim\n",
        "import torch.utils.data as utils\n",
        "\n",
        "x_train = torch.from_numpy(np.array(train_pd['features'].values.tolist(), np.float32))\n",
        "y_train = torch.from_numpy(np.array(train_pd['outcome'].values.tolist(), np.int64))\n",
        "\n",
        "x_test = torch.from_numpy(np.array(test_pd['features'].values.tolist(), np.float32))\n",
        "y_test = torch.from_numpy(np.array(test_pd['outcome'].values.tolist(), np.int64))"
      ]
    },
    {
      "cell_type": "code",
      "execution_count": 7,
      "metadata": {},
      "outputs": [
        {
          "name": "stdout",
          "output_type": "stream",
          "text": [
            "torch.Size([125973, 113]) torch.Size([125973])\n"
          ]
        }
      ],
      "source": [
        "print(x_train.shape, y_train.shape)"
      ]
    },
    {
      "cell_type": "code",
      "execution_count": 9,
      "metadata": {},
      "outputs": [],
      "source": [
        "from torch.utils.data import Dataset, DataLoader\n",
        "class MyDataset(Dataset):\n",
        "    def __init__(self, x, y):\n",
        "        self.x = x\n",
        "        self.y = y\n",
        "    def __len__(self):\n",
        "        return self.x.shape[0]\n",
        "    def __getitem__(self, idx):\n",
        "        return self.x[idx], self.y[idx]\n",
        "    \n",
        "train_dataset = MyDataset(x_train, y_train)\n",
        "test_dataset = MyDataset(x_test, y_test)"
      ]
    },
    {
      "cell_type": "markdown",
      "metadata": {},
      "source": [
        "## MLP training"
      ]
    },
    {
      "cell_type": "code",
      "execution_count": 10,
      "metadata": {},
      "outputs": [],
      "source": [
        "class myNeuralNet(nn.Module):\n",
        "    def __init__(self, input_size):\n",
        "        super().__init__()\n",
        "        self.ln1 = nn.Linear(input_size, 64)\n",
        "        self.ln2 = nn.Linear(64, 32)\n",
        "        self.ln3 = nn.Linear(32, 5)\n",
        "    def forward(self, x):\n",
        "        x = F.relu(self.ln1(x))\n",
        "        x = F.relu(self.ln2(x))\n",
        "        x = self.ln3(x)\n",
        "        x = F.softmax(x, dim=-1)\n",
        "        return x"
      ]
    },
    {
      "cell_type": "code",
      "execution_count": 11,
      "metadata": {},
      "outputs": [
        {
          "name": "stdout",
          "output_type": "stream",
          "text": [
            "cuda:0\n"
          ]
        }
      ],
      "source": [
        "device = torch.device(\"cuda:0\" if torch.cuda.is_available() else \"cpu\")\n",
        "print(device)"
      ]
    },
    {
      "cell_type": "code",
      "execution_count": 15,
      "metadata": {},
      "outputs": [
        {
          "name": "stdout",
          "output_type": "stream",
          "text": [
            "Epoch 5 - Train Loss: 0.9267113639181574, Test Loss: 1.1870218877042278\n",
            "Epoch 10 - Train Loss: 0.9261241261422272, Test Loss: 1.1902962708741092\n",
            "Epoch 15 - Train Loss: 0.9240121611717023, Test Loss: 1.1840496692764626\n",
            "Epoch 20 - Train Loss: 0.9236448418054329, Test Loss: 1.1818351477719424\n",
            "Epoch 25 - Train Loss: 0.9234250441767865, Test Loss: 1.18023681640625\n",
            "Epoch 30 - Train Loss: 0.9233143508555197, Test Loss: 1.174643673253863\n",
            "Epoch 35 - Train Loss: 0.9231751233520663, Test Loss: 1.1717294079534124\n",
            "Epoch 40 - Train Loss: 0.9232073587046192, Test Loss: 1.179863160915589\n",
            "Epoch 45 - Train Loss: 0.9232673611166995, Test Loss: 1.1765187134903468\n",
            "Epoch 50 - Train Loss: 0.9236381722512158, Test Loss: 1.1772316078121743\n"
          ]
        }
      ],
      "source": [
        "input_size = x_train.shape[1]\n",
        "model = myNeuralNet(input_size).to(device)\n",
        "\n",
        "batch_size = 256\n",
        "num_epochs = 50\n",
        "lr = 0.001\n",
        "opt = optim.Adam(model.parameters(), lr=lr)\n",
        "loss_fcn = nn.CrossEntropyLoss()\n",
        "\n",
        "train_loss = []\n",
        "test_loss = []\n",
        "train_loader = DataLoader(train_dataset, batch_size=batch_size, shuffle=False)\n",
        "test_loader = DataLoader(test_dataset, batch_size=batch_size, shuffle=False)\n",
        "for epoch in range(num_epochs):\n",
        "    model.train()  # Set the model to training mode\n",
        "\n",
        "    # Initialize variables to store the total loss for this epoch\n",
        "    total_train_loss = 0\n",
        "    total_test_loss = 0\n",
        "\n",
        "    # Training loop\n",
        "    for batch_id, (x, y) in enumerate(train_loader):\n",
        "        x, y = x.to(device), y.to(device)  # Move the data to the device that is used\n",
        "        opt.zero_grad()  # Zero the gradients\n",
        "        output = model(x)  # Forward pass\n",
        "        loss = loss_fcn(output, y - 1)  # Compute the loss\n",
        "\n",
        "        total_train_loss += loss.item()  # Accumulate the loss\n",
        "\n",
        "        loss.backward()  # Backward pass\n",
        "        opt.step()  # Update the parameters\n",
        "\n",
        "    # Store the average training loss for this epoch\n",
        "    train_loss.append(total_train_loss / len(train_loader))\n",
        "\n",
        "    # Validation loop\n",
        "    model.eval()  # Set the model to evaluation mode\n",
        "\n",
        "    with torch.no_grad():  # No need to compute gradients during validation\n",
        "        for batch_id, (x, y) in enumerate(test_loader):\n",
        "            x, y = x.to(device), y.to(device)  # Move the data to the device that is used\n",
        "            output = model(x)  # Forward pass\n",
        "            loss = loss_fcn(output, y - 1)  # Compute the loss\n",
        "            total_test_loss += loss.item()  # Accumulate the loss\n",
        "\n",
        "    # Store the average validation loss for this epoch\n",
        "    test_loss.append(total_test_loss / len(test_loader))\n",
        "\n",
        "    # Print the losses every 5 epochs\n",
        "    if (epoch + 1) % 5 == 0:\n",
        "        print(f\"Epoch {epoch + 1} - Train Loss: {train_loss[-1]}, Test Loss: {test_loss[-1]}\")\n",
        "\n",
        "    # Save the best model so far\n",
        "    if epoch == 0 or test_loss[-1] < np.min(test_loss[:-1]):\n",
        "        best_model = model\n",
        "        best_epoch = epoch\n",
        "\n",
        "    # Early stopping\n",
        "    if epoch - best_epoch >= 30:\n",
        "        print(f\"Early stopping at epoch {epoch + 1}\")\n",
        "        break"
      ]
    },
    {
      "cell_type": "code",
      "execution_count": 17,
      "metadata": {},
      "outputs": [
        {
          "data": {
            "image/png": "[encoded data removed]",
            "text/plain": [
              "<Figure size 640x480 with 1 Axes>"
            ]
          },
          "metadata": {},
          "output_type": "display_data"
        }
      ],
      "source": [
        "# Plot the training and validation losses\n",
        "import matplotlib.pyplot as plt\n",
        "plt.plot(train_loss, label=\"Train Loss\")\n",
        "plt.plot(test_loss, label=\"Test Loss\")\n",
        "plt.xlabel(\"Epoch\")\n",
        "plt.ylabel(\"Loss\")\n",
        "plt.legend()\n",
        "plt.title(\"Training and Validation Losses\")\n",
        "plt.show()"
      ]
    }
  ],
  "metadata": {
    "colab": {
      "provenance": []
    },
    "kernelspec": {
      "display_name": "Python 3 (ipykernel)",
      "language": "python",
      "name": "python3"
    },
    "language_info": {
      "codemirror_mode": {
        "name": "ipython",
        "version": 3
      },
      "file_extension": ".py",
      "mimetype": "text/x-python",
      "name": "python",
      "nbconvert_exporter": "python",
      "pygments_lexer": "ipython3",
      "version": "3.11.4"
    },
    "vscode": {
      "interpreter": {
        "hash": "8276d678390595138ef1424ae828a970263a6f746980760e1cfd17345ae3e994"
      }
    }
  },
  "nbformat": 4,
  "nbformat_minor": 0
}
