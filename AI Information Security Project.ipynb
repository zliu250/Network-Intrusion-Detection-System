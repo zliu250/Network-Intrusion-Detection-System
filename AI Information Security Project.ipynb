{
  "cells": [
    {
      "cell_type": "markdown",
      "metadata": {
        "id": "ybJbLN0JzWw_"
      },
      "source": [
        "# 1. Data Ingestion and Preprocess\n"
      ]
    },
    {
      "cell_type": "code",
      "execution_count": 1,
      "metadata": {
        "id": "CvmFYM6LzWxC"
      },
      "outputs": [],
      "source": [
        "import pyspark\n",
        "from pyspark.sql import SparkSession, SQLContext\n",
        "from pyspark.ml import Pipeline,Transformer\n",
        "from pyspark.ml.feature import Imputer,StandardScaler,StringIndexer,OneHotEncoder, VectorAssembler\n",
        "\n",
        "from pyspark.sql.functions import *\n",
        "from pyspark.sql.types import *\n",
        "import numpy as np\n",
        "\n",
        "col_names = [\"duration\",\"protocol_type\",\"service\",\"flag\",\"src_bytes\",\n",
        "\"dst_bytes\",\"land\",\"wrong_fragment\",\"urgent\",\"hot\",\"num_failed_logins\",\n",
        "\"logged_in\",\"num_compromised\",\"root_shell\",\"su_attempted\",\"num_root\",\n",
        "\"num_file_creations\",\"num_shells\",\"num_access_files\",\"num_outbound_cmds\",\n",
        "\"is_host_login\",\"is_guest_login\",\"count\",\"srv_count\",\"serror_rate\",\n",
        "\"srv_serror_rate\",\"rerror_rate\",\"srv_rerror_rate\",\"same_srv_rate\",\n",
        "\"diff_srv_rate\",\"srv_diff_host_rate\",\"dst_host_count\",\"dst_host_srv_count\",\n",
        "\"dst_host_same_srv_rate\",\"dst_host_diff_srv_rate\",\"dst_host_same_src_port_rate\",\n",
        "\"dst_host_srv_diff_host_rate\",\"dst_host_serror_rate\",\"dst_host_srv_serror_rate\",\n",
        "\"dst_host_rerror_rate\",\"dst_host_srv_rerror_rate\",\"class\",\"difficulty\"]\n",
        "\n",
        "nominal_cols = ['protocol_type','service','flag']\n",
        "binary_cols = ['land', 'logged_in', 'root_shell', 'su_attempted', 'is_host_login',\n",
        "'is_guest_login']\n",
        "continuous_cols = ['duration' ,'src_bytes', 'dst_bytes', 'wrong_fragment' ,'urgent', 'hot',\n",
        "'num_failed_logins', 'num_compromised', 'num_root' ,'num_file_creations',\n",
        "'num_shells', 'num_access_files', 'num_outbound_cmds', 'count' ,'srv_count',\n",
        "'serror_rate', 'srv_serror_rate' ,'rerror_rate' ,'srv_rerror_rate',\n",
        "'same_srv_rate', 'diff_srv_rate', 'srv_diff_host_rate' ,'dst_host_count',\n",
        "'dst_host_srv_count' ,'dst_host_same_srv_rate' ,'dst_host_diff_srv_rate',\n",
        "'dst_host_same_src_port_rate' ,'dst_host_srv_diff_host_rate',\n",
        "'dst_host_serror_rate' ,'dst_host_srv_serror_rate', 'dst_host_rerror_rate',\n",
        "'dst_host_srv_rerror_rate']\n",
        "\n",
        "outcome_dict = {\n",
        "'normal': 'normal',\n",
        "'back': 'DoS',\n",
        "'land': 'DoS',\n",
        "'neptune': 'DoS',\n",
        "'pod': 'DoS',\n",
        "'smurf': 'DoS',\n",
        "'teardrop': 'DoS',\n",
        "'mailbomb': 'DoS',\n",
        "'apache2': 'DoS',\n",
        "'processtable': 'DoS',\n",
        "'udpstorm': 'DoS',\n",
        "'ipsweep': 'Probe',\n",
        "'nmap': 'Probe',\n",
        "'portsweep': 'Probe',\n",
        "'satan': 'Probe',\n",
        "'mscan': 'Probe',\n",
        "'saint': 'Probe',\n",
        "'ftp_write': 'R2L',\n",
        "'guess_passwd': 'R2L',\n",
        "'imap': 'R2L',\n",
        "'multihop': 'R2L',\n",
        "'phf': 'R2L',\n",
        "'spy': 'R2L',\n",
        "'warezclient': 'R2L',\n",
        "'warezmaster': 'R2L',\n",
        "'sendmail': 'R2L',\n",
        "'named': 'R2L',\n",
        "'snmpgetattack': 'R2L',\n",
        "'snmpguess': 'R2L',\n",
        "'xlock': 'R2L',\n",
        "'xsnoop': 'R2L',\n",
        "'worm': 'R2L',\n",
        "'buffer_overflow': 'U2R',\n",
        "'loadmodule': 'U2R',\n",
        "'perl': 'U2R',\n",
        "'rootkit': 'U2R',\n",
        "'httptunnel': 'U2R',\n",
        "'ps': 'U2R',\n",
        "'sqlattack': 'U2R',\n",
        "'xterm': 'U2R'\n",
        "}\n",
        "\n",
        "outcome_dict_numeric = {\n",
        "\"normal\": 1.0,\n",
        "\"DoS\": 2.0,\n",
        "\"Probe\": 3.0,\n",
        "\"R2L\": 4.0,\n",
        "\"U2R\": 5.0\n",
        "}\n",
        "outcome_names = [\"normal\",\"DoS\",\"Probe\",\"R2L\",\"U2R\"]\n",
        "outcome_names_int = [1.0,2.0,3.0,4.0,5.0]\n",
        "\n",
        "class OutcomeCreater(Transformer): # this defines a transformer that creates the outcome column\n",
        "  def __init__(self):\n",
        "    super().__init__()\n",
        "\n",
        "  def _transform(self, dataset):\n",
        "    label_to_binary = udf(lambda name:outcome_dict_numeric[outcome_dict[name]])\n",
        "    output_df = dataset.withColumn('outcome',label_to_binary(col('class'))).drop(\"class\")\n",
        "    output_df = output_df.withColumn('outcome', col('outcome').cast(DoubleType()))\n",
        "    output_df = output_df.drop('difficulty')\n",
        "    return output_df\n",
        "\n",
        "\n",
        "class FeatureTypeCaster(Transformer): # this transformer will cast the columns as appropriate types\n",
        "    def __init__(self):\n",
        "        super().__init__()\n",
        "\n",
        "    def _transform(self, dataset):\n",
        "        output_df = dataset\n",
        "        for col_name in binary_cols + continuous_cols:\n",
        "            output_df = output_df.withColumn(col_name,col(col_name).cast(DoubleType()))\n",
        "\n",
        "        return output_df\n",
        "class ColumnDropper(Transformer): # this transformer drops unnecessary columns\n",
        "    def __init__(self, columns_to_drop = None):\n",
        "        super().__init__()\n",
        "        self.columns_to_drop=columns_to_drop\n",
        "    def _transform(self, dataset):\n",
        "        output_df = dataset\n",
        "        for col_name in self.columns_to_drop:\n",
        "            output_df = output_df.drop(col_name)\n",
        "        return output_df\n",
        "\n",
        "def get_preprocess_pipeline():\n",
        "    # Stage where columns are casted as appropriate types\n",
        "    stage_typecaster = FeatureTypeCaster()\n",
        "\n",
        "    # Stage where nominal columns are transformed to index columns using StringIndexer\n",
        "    nominal_id_cols = [x+\"_index\" for x in nominal_cols]\n",
        "    nominal_onehot_cols = [x+\"_encoded\" for x in nominal_cols]\n",
        "    stage_nominal_indexer = StringIndexer(inputCols = nominal_cols, outputCols = nominal_id_cols )\n",
        "\n",
        "    # Stage where the index columns are further transformed using OneHotEncoder\n",
        "    stage_nominal_onehot_encoder = OneHotEncoder(inputCols=nominal_id_cols, outputCols=nominal_onehot_cols)\n",
        "\n",
        "    # Stage where all relevant features are assembled into a vector (and dropping a few)\n",
        "    feature_cols = continuous_cols+binary_cols+nominal_onehot_cols\n",
        "    corelated_cols_to_remove = [\"dst_host_serror_rate\",\"srv_serror_rate\",\"dst_host_srv_serror_rate\",\n",
        "                     \"srv_rerror_rate\",\"dst_host_rerror_rate\",\"dst_host_srv_rerror_rate\"]\n",
        "    for col_name in corelated_cols_to_remove:\n",
        "        feature_cols.remove(col_name)\n",
        "    stage_vector_assembler = VectorAssembler(inputCols=feature_cols, outputCol=\"vectorized_features\")\n",
        "\n",
        "    # Stage where we scale the columns\n",
        "    stage_scaler = StandardScaler(inputCol= 'vectorized_features', outputCol= 'features')\n",
        "\n",
        "\n",
        "    # Stage for creating the outcome column representing whether there is attack\n",
        "    stage_outcome = OutcomeCreater()\n",
        "\n",
        "    # Removing all unnecessary columbs, only keeping the 'features' and 'outcome' columns\n",
        "    stage_column_dropper = ColumnDropper(columns_to_drop = nominal_cols+nominal_id_cols+\n",
        "        nominal_onehot_cols+ binary_cols + continuous_cols + ['vectorized_features'])\n",
        "    # Connect the columns into a pipeline\n",
        "    pipeline = Pipeline(stages=[stage_typecaster,stage_nominal_indexer,stage_nominal_onehot_encoder,\n",
        "        stage_vector_assembler,stage_scaler,stage_outcome,stage_column_dropper])\n",
        "    return pipeline"
      ]
    },
    {
      "cell_type": "markdown",
      "metadata": {
        "id": "g6pwaZyOzWxE"
      },
      "source": [
        "## 2.1 Load the training and test dataframe using the pipeline"
      ]
    },
    {
      "cell_type": "code",
      "execution_count": 2,
      "metadata": {
        "id": "NVDfjMSozWxE"
      },
      "outputs": [],
      "source": [
        "import findspark\n",
        "findspark.init()\n",
        "findspark.find()\n",
        "\n",
        "import os\n",
        "import sys\n",
        "\n",
        "spark = SparkSession.builder \\\n",
        "    .master(\"local[*]\") \\\n",
        "    .appName(\"IntrusionDetectionProject\") \\\n",
        "    .getOrCreate()\n",
        "\n",
        "nslkdd_raw = spark.read.csv('./KDDTrain+.txt',header=False).toDF(*col_names)\n",
        "nslkdd_test_raw = spark.read.csv('./KDDTest+.txt',header=False).toDF(*col_names)\n",
        "\n",
        "preprocess_pipeline = get_preprocess_pipeline()\n",
        "preprocess_pipeline_model = preprocess_pipeline.fit(nslkdd_raw)\n",
        "\n",
        "nslkdd_df = preprocess_pipeline_model.transform(nslkdd_raw)\n",
        "nslkdd_df_test = preprocess_pipeline_model.transform(nslkdd_test_raw)\n",
        "\n"
      ]
    },
    {
      "cell_type": "code",
      "execution_count": 4,
      "metadata": {
        "colab": {
          "base_uri": "https://localhost:8080/"
        },
        "id": "2mK0M7-9zWxE",
        "outputId": "596ca0f9-cff7-4a42-ac43-d0956fbc2b91"
      },
      "outputs": [
        {
          "name": "stdout",
          "output_type": "stream",
          "text": [
            "root\n",
            " |-- features: vector (nullable = true)\n",
            " |-- outcome: double (nullable = true)\n",
            "\n",
            "+--------------------+-------+\n",
            "|            features|outcome|\n",
            "+--------------------+-------+\n",
            "|(113,[1,13,14,17,...|    1.0|\n",
            "|(113,[1,13,14,17,...|    1.0|\n",
            "|(113,[13,14,15,17...|    2.0|\n",
            "|(113,[1,2,13,14,1...|    1.0|\n",
            "|(113,[1,2,13,14,1...|    1.0|\n",
            "|(113,[13,14,16,17...|    2.0|\n",
            "|(113,[13,14,15,17...|    2.0|\n",
            "|(113,[13,14,15,17...|    2.0|\n",
            "|(113,[13,14,15,17...|    2.0|\n",
            "|(113,[13,14,15,17...|    2.0|\n",
            "|(113,[13,14,16,17...|    2.0|\n",
            "|(113,[13,14,15,17...|    2.0|\n",
            "|(113,[1,2,13,14,1...|    1.0|\n",
            "|(113,[1,13,14,17,...|    4.0|\n",
            "|(113,[13,14,15,18...|    2.0|\n",
            "|(113,[13,14,15,17...|    2.0|\n",
            "|(113,[1,2,13,14,1...|    1.0|\n",
            "|(113,[1,13,14,17,...|    3.0|\n",
            "|(113,[1,2,13,14,1...|    1.0|\n",
            "|(113,[1,2,13,14,1...|    1.0|\n",
            "+--------------------+-------+\n",
            "only showing top 20 rows\n",
            "\n"
          ]
        }
      ],
      "source": [
        "nslkdd_df.printSchema()\n",
        "nslkdd_df.show()\n"
      ]
    },
    {
      "cell_type": "code",
      "execution_count": 4,
      "metadata": {
        "colab": {
          "base_uri": "https://localhost:8080/"
        },
        "id": "W2y25zaxzWxF",
        "outputId": "565dbf94-121f-4413-8d88-dfb452e8ad9d"
      },
      "outputs": [
        {
          "name": "stdout",
          "output_type": "stream",
          "text": [
            "root\n",
            " |-- features: vector (nullable = true)\n",
            " |-- outcome: double (nullable = true)\n",
            "\n",
            "+--------------------+-------+\n",
            "|            features|outcome|\n",
            "+--------------------+-------+\n",
            "|(113,[13,14,16,17...|    2.0|\n",
            "+--------------------+-------+\n",
            "only showing top 1 row\n",
            "\n"
          ]
        }
      ],
      "source": [
        "nslkdd_df_test.printSchema()\n",
        "nslkdd_df_test.show(1)"
      ]
    },
    {
      "cell_type": "markdown",
      "metadata": {
        "id": "-yMWgb__zWxG"
      },
      "source": [
        "## Random Forest Classifier For Benchmarking"
      ]
    },
    {
      "cell_type": "code",
      "execution_count": 8,
      "metadata": {
        "colab": {
          "base_uri": "https://localhost:8080/"
        },
        "id": "Shs3_FkIzWxG",
        "outputId": "968646ac-c2b8-4b40-b13f-d0ab02992e4a"
      },
      "outputs": [
        {
          "name": "stdout",
          "output_type": "stream",
          "text": [
            "Train: 0.9641907392854024\n",
            "Test: 0.7088804116394606\n"
          ]
        }
      ],
      "source": [
        "from pyspark.ml.classification import RandomForestClassifier\n",
        "from pyspark.ml.evaluation import MulticlassClassificationEvaluator\n",
        "\n",
        "rf = RandomForestClassifier(featuresCol='features', labelCol='outcome')\n",
        "\n",
        "rf_model = rf.fit(nslkdd_df)\n",
        "\n",
        "train_pred = rf_model.transform(nslkdd_df)\n",
        "test_pred = rf_model.transform(nslkdd_df_test)\n",
        "\n",
        "evaluator = MulticlassClassificationEvaluator(labelCol=\"outcome\", predictionCol=\"prediction\", metricName=\"accuracy\")\n",
        "\n",
        "train_acc = evaluator.evaluate(train_pred)\n",
        "test_acc = evaluator.evaluate(test_pred)\n",
        "\n",
        "print(f\"Train: {train_acc}\")\n",
        "print(f\"Test: {test_acc}\")"
      ]
    },
    {
      "cell_type": "code",
      "execution_count": 6,
      "metadata": {
        "colab": {
          "base_uri": "https://localhost:8080/",
          "height": 504
        },
        "id": "LNcTn5IozWxG",
        "outputId": "4a7f38c3-d3dc-411f-a1c5-eca548ca0c1e"
      },
      "outputs": [
        {
          "data": {
            "text/plain": [
              "Text(0.5, 25.722222222222214, 'Predicted')"
            ]
          },
          "execution_count": 6,
          "metadata": {},
          "output_type": "execute_result"
        },
        {
          "data": {
            "image/png": "[encoded data removed]",
            "text/plain": [
              "<Figure size 500x500 with 2 Axes>"
            ]
          },
          "metadata": {},
          "output_type": "display_data"
        }
      ],
      "source": [
        "predictions_pd = test_pred.select('outcome', 'prediction').toPandas()\n",
        "\n",
        "# import plt\n",
        "import matplotlib.pyplot as plt\n",
        "import seaborn as sns\n",
        "\n",
        "# Plot the confusion matrix\n",
        "from sklearn.metrics import confusion_matrix\n",
        "cm = confusion_matrix(predictions_pd['outcome'], predictions_pd['prediction'])\n",
        "plt.figure(figsize=(5,5))\n",
        "sns.heatmap(cm, annot=True, fmt=\"d\")\n",
        "plt.title('Confusion Matrix')\n",
        "plt.xlabel('Predicted')\n"
      ]
    },
    {
      "cell_type": "code",
      "execution_count": 7,
      "metadata": {},
      "outputs": [],
      "source": [
        "# Reduce the dataset size to run grid search\n",
        "reduced_nslkdd_df = nslkdd_df.sample(False, 0.2, 57)\n",
        "reduced_nslkdd_df_test = nslkdd_df_test.sample(False, 0.2, 57)"
      ]
    },
    {
      "cell_type": "code",
      "execution_count": 8,
      "metadata": {
        "colab": {
          "base_uri": "https://localhost:8080/"
        },
        "id": "1YWRzJsEzWxH",
        "outputId": "275e284b-e57a-4680-e50e-cfe06d3b1a92"
      },
      "outputs": [
        {
          "name": "stdout",
          "output_type": "stream",
          "text": [
            "Train Acc: 0.9988493889858753\n",
            "Test Acc: 0.738177874186551\n"
          ]
        }
      ],
      "source": [
        "# Perform a grid search to find the best hyperparameters\n",
        "from pyspark.ml.tuning import ParamGridBuilder, CrossValidator\n",
        "\n",
        "paramGrid = (ParamGridBuilder()\n",
        "                .addGrid(rf.maxDepth, [5, 15, 25])\n",
        "                .addGrid(rf.impurity, [\"gini\", \"entropy\"])\n",
        "                .addGrid(rf.minInstancesPerNode, [1, 5, 10])\n",
        "                .addGrid(rf.numTrees, [5, 50, 100])\n",
        "                .build())\n",
        "\n",
        "cv = CrossValidator(estimator=rf, estimatorParamMaps=paramGrid, evaluator=evaluator, numFolds=5)\n",
        "\n",
        "cv_model = cv.fit(reduced_nslkdd_df)\n",
        "\n",
        "train_pred = cv_model.transform(reduced_nslkdd_df)\n",
        "test_pred = cv_model.transform(reduced_nslkdd_df_test)\n",
        "\n",
        "train_acc = evaluator.evaluate(train_pred)\n",
        "test_acc = evaluator.evaluate(test_pred)\n",
        "\n",
        "print(f\"Train Acc: {train_acc}\")\n",
        "print(f\"Test Acc: {test_acc}\")"
      ]
    },
    {
      "cell_type": "code",
      "execution_count": 9,
      "metadata": {
        "colab": {
          "base_uri": "https://localhost:8080/",
          "height": 504
        },
        "id": "RQDy4aoWzWxH",
        "outputId": "36f7fa42-3603-4590-d3ad-cf23146a03cb"
      },
      "outputs": [
        {
          "data": {
            "text/plain": [
              "Text(0.5, 25.722222222222214, 'Predicted')"
            ]
          },
          "execution_count": 9,
          "metadata": {},
          "output_type": "execute_result"
        },
        {
          "data": {
            "image/png": "[encoded data removed]",
            "text/plain": [
              "<Figure size 500x500 with 2 Axes>"
            ]
          },
          "metadata": {},
          "output_type": "display_data"
        }
      ],
      "source": [
        "predictions_pd = test_pred.select('outcome', 'prediction').toPandas()\n",
        "\n",
        "# import plt\n",
        "import matplotlib.pyplot as plt\n",
        "import seaborn as sns\n",
        "\n",
        "# Plot the confusion matrix\n",
        "from sklearn.metrics import confusion_matrix\n",
        "cm = confusion_matrix(predictions_pd['outcome'], predictions_pd['prediction'])\n",
        "plt.figure(figsize=(5,5))\n",
        "sns.heatmap(cm, annot=True, fmt=\"d\")\n",
        "plt.title('Confusion Matrix')\n",
        "plt.xlabel('Predicted')"
      ]
    },
    {
      "cell_type": "code",
      "execution_count": 11,
      "metadata": {},
      "outputs": [
        {
          "name": "stdout",
          "output_type": "stream",
          "text": [
            "Best Param (Max Depth):  25\n",
            "Best Param (Impurity):  gini\n",
            "Best Param (Min Instances Per Node):  1\n",
            "Best Param (Num Trees):  100\n"
          ]
        }
      ],
      "source": [
        "# final model parameters\n",
        "best_model = cv_model.bestModel\n",
        "print('Best Param (Max Depth): ', best_model._java_obj.getMaxDepth())\n",
        "print('Best Param (Impurity): ', best_model._java_obj.getImpurity())\n",
        "print('Best Param (Min Instances Per Node): ', best_model._java_obj.getMinInstancesPerNode())\n",
        "print('Best Param (Num Trees): ', best_model._java_obj.getNumTrees())"
      ]
    },
    {
      "cell_type": "markdown",
      "metadata": {},
      "source": [
        "## Undersampling other features to balance the dataset"
      ]
    },
    {
      "cell_type": "code",
      "execution_count": 14,
      "metadata": {},
      "outputs": [
        {
          "name": "stdout",
          "output_type": "stream",
          "text": [
            "52\n"
          ]
        }
      ],
      "source": [
        "# Undersample the dataset to balance the classes\n",
        "min_count = nslkdd_df.groupBy('outcome').count().agg({\"count\": \"min\"}).collect()[0][0]\n",
        "print(min_count)\n",
        "\n",
        "balance_df = nslkdd_df.sampleBy('outcome', fractions={1.0: min_count/67343, 2.0: min_count/45927, 3.0: min_count/11656, 4.0: min_count/995, 5.0: min_count/52})"
      ]
    },
    {
      "cell_type": "code",
      "execution_count": 7,
      "metadata": {},
      "outputs": [
        {
          "name": "stdout",
          "output_type": "stream",
          "text": [
            "+-------+-----+\n",
            "|outcome|count|\n",
            "+-------+-----+\n",
            "|    1.0|   45|\n",
            "|    4.0|   48|\n",
            "|    3.0|   46|\n",
            "|    2.0|   61|\n",
            "|    5.0|   52|\n",
            "+-------+-----+\n",
            "\n"
          ]
        }
      ],
      "source": [
        "balance_df.groupBy('outcome').count().show()"
      ]
    },
    {
      "cell_type": "code",
      "execution_count": 12,
      "metadata": {},
      "outputs": [
        {
          "name": "stdout",
          "output_type": "stream",
          "text": [
            "Train: 1.0\n",
            "Test: 0.7644162526614621\n"
          ]
        }
      ],
      "source": [
        "# Train the model on the balanced dataset\n",
        "rf = RandomForestClassifier(featuresCol='features', labelCol='outcome', maxDepth=25, impurity='gini', minInstancesPerNode=1, numTrees=100)\n",
        "rf_model = rf.fit(balance_df)\n",
        "\n",
        "train_pred = rf_model.transform(balance_df)\n",
        "test_pred = rf_model.transform(nslkdd_df_test)\n",
        "\n",
        "train_acc = evaluator.evaluate(train_pred)\n",
        "test_acc = evaluator.evaluate(test_pred)\n",
        "\n",
        "print(f\"Train: {train_acc}\")\n",
        "print(f\"Test: {test_acc}\")"
      ]
    },
    {
      "cell_type": "code",
      "execution_count": 13,
      "metadata": {},
      "outputs": [
        {
          "data": {
            "text/plain": [
              "Text(0.5, 25.722222222222214, 'Predicted')"
            ]
          },
          "execution_count": 13,
          "metadata": {},
          "output_type": "execute_result"
        },
        {
          "data": {
            "image/png": "[encoded data removed]",
            "text/plain": [
              "<Figure size 500x500 with 2 Axes>"
            ]
          },
          "metadata": {},
          "output_type": "display_data"
        }
      ],
      "source": [
        "predictions_pd = test_pred.select('outcome', 'prediction').toPandas()\n",
        "\n",
        "# import plt\n",
        "import matplotlib.pyplot as plt\n",
        "import seaborn as sns\n",
        "\n",
        "# Plot the confusion matrix\n",
        "from sklearn.metrics import confusion_matrix\n",
        "cm = confusion_matrix(predictions_pd['outcome'], predictions_pd['prediction'])\n",
        "plt.figure(figsize=(5,5))\n",
        "sns.heatmap(cm, annot=True, fmt=\"d\")\n",
        "plt.title('Confusion Matrix')\n",
        "plt.xlabel('Predicted')"
      ]
    },
    {
      "cell_type": "markdown",
      "metadata": {},
      "source": [
        "## Convert to pytorch tensors"
      ]
    },
    {
      "cell_type": "code",
      "execution_count": 15,
      "metadata": {},
      "outputs": [],
      "source": [
        "from pyspark.sql.types import DoubleType, ArrayType\n",
        "from pyspark.sql.functions import udf\n",
        "import pandas as pd\n",
        "\n",
        "to_array = udf(lambda v: v.toArray().tolist(), ArrayType(DoubleType()))\n",
        "train_pd = balance_df.withColumn(\"features\", to_array(\"features\")).toPandas()\n",
        "test_pd = nslkdd_df_test.withColumn(\"features\", to_array(\"features\")).toPandas()"
      ]
    },
    {
      "cell_type": "code",
      "execution_count": 16,
      "metadata": {},
      "outputs": [],
      "source": [
        "import torch\n",
        "import torch.nn as nn\n",
        "import torch.nn.functional as F\n",
        "import torch.optim as optim\n",
        "import torch.utils.data as utils\n",
        "\n",
        "x_train = torch.from_numpy(np.array(train_pd['features'].values.tolist(), np.float32))\n",
        "y_train = torch.from_numpy(np.array(train_pd['outcome'].values.tolist(), np.int64))\n",
        "\n",
        "x_test = torch.from_numpy(np.array(test_pd['features'].values.tolist(), np.float32))\n",
        "y_test = torch.from_numpy(np.array(test_pd['outcome'].values.tolist(), np.int64))"
      ]
    },
    {
      "cell_type": "code",
      "execution_count": 17,
      "metadata": {},
      "outputs": [
        {
          "name": "stdout",
          "output_type": "stream",
          "text": [
            "tensor([0, 1, 2, 3, 4])\n"
          ]
        }
      ],
      "source": [
        "y_train = y_train - 1\n",
        "y_test = y_test - 1\n",
        "print(y_train.unique())"
      ]
    },
    {
      "cell_type": "code",
      "execution_count": 18,
      "metadata": {},
      "outputs": [
        {
          "name": "stdout",
          "output_type": "stream",
          "text": [
            "torch.Size([259, 113]) torch.Size([259])\n"
          ]
        }
      ],
      "source": [
        "print(x_train.shape, y_train.shape)"
      ]
    },
    {
      "cell_type": "code",
      "execution_count": 19,
      "metadata": {},
      "outputs": [],
      "source": [
        "from torch.utils.data import Dataset, DataLoader\n",
        "class MyDataset(Dataset):\n",
        "    def __init__(self, x, y):\n",
        "        self.x = x\n",
        "        self.y = y\n",
        "    def __len__(self):\n",
        "        return self.x.shape[0]\n",
        "    def __getitem__(self, idx):\n",
        "        return self.x[idx], self.y[idx]\n",
        "    \n",
        "train_dataset = MyDataset(x_train, y_train)\n",
        "test_dataset = MyDataset(x_test, y_test)"
      ]
    },
    {
      "cell_type": "markdown",
      "metadata": {},
      "source": [
        "## MLP training"
      ]
    },
    {
      "cell_type": "code",
      "execution_count": 8,
      "metadata": {},
      "outputs": [],
      "source": [
        "class myNeuralNet(nn.Module):\n",
        "    def __init__(self, input_size):\n",
        "        super().__init__()\n",
        "        self.ln1 = nn.Linear(input_size, 128)\n",
        "        self.ln2 = nn.Linear(128, 64)\n",
        "        self.ln3 = nn.Linear(64, 32)\n",
        "        self.ln4 = nn.Linear(32, 5)\n",
        "    def forward(self, x):\n",
        "        x = F.relu(self.ln1(x))\n",
        "        x = F.relu(self.ln2(x))\n",
        "        x = F.relu(self.ln3(x))\n",
        "        x = self.ln4(x)\n",
        "        x = F.softmax(x, dim=-1)\n",
        "        return x"
      ]
    },
    {
      "cell_type": "code",
      "execution_count": 9,
      "metadata": {},
      "outputs": [
        {
          "name": "stdout",
          "output_type": "stream",
          "text": [
            "cuda:0\n"
          ]
        }
      ],
      "source": [
        "device = torch.device(\"cuda:0\" if torch.cuda.is_available() else \"cpu\")\n",
        "print(device)"
      ]
    },
    {
      "cell_type": "code",
      "execution_count": 24,
      "metadata": {},
      "outputs": [
        {
          "name": "stdout",
          "output_type": "stream",
          "text": [
            "Epoch 5 - Train Accuracy: 0.33976833976833976\n",
            "Epoch 5 - Train Loss: 1.6049132347106934, Test Loss: 1.6126111229148195\n",
            "Epoch 5 - Test Accuracy: 0.28743789921930446\n",
            "Epoch 10 - Train Accuracy: 0.444015444015444\n",
            "Epoch 10 - Train Loss: 1.5962122678756714, Test Loss: 1.611453367697956\n",
            "Epoch 10 - Test Accuracy: 0.3042051100070972\n",
            "Epoch 15 - Train Accuracy: 0.5057915057915058\n",
            "Epoch 15 - Train Loss: 1.585201907157898, Test Loss: 1.61030422053999\n",
            "Epoch 15 - Test Accuracy: 0.3031848828956707\n",
            "Epoch 20 - Train Accuracy: 0.5752895752895753\n",
            "Epoch 20 - Train Loss: 1.5695278882980346, Test Loss: 1.6087947324044982\n",
            "Epoch 20 - Test Accuracy: 0.3206618168914124\n",
            "Epoch 25 - Train Accuracy: 0.6023166023166023\n",
            "Epoch 25 - Train Loss: 1.5474956035614014, Test Loss: 1.6063894536610028\n",
            "Epoch 25 - Test Accuracy: 0.2954222853087296\n",
            "Epoch 30 - Train Accuracy: 0.6023166023166023\n",
            "Epoch 30 - Train Loss: 1.5199326038360597, Test Loss: 1.6019350678657338\n",
            "Epoch 30 - Test Accuracy: 0.2825585521646558\n",
            "Epoch 35 - Train Accuracy: 0.61003861003861\n",
            "Epoch 35 - Train Loss: 1.4853249549865724, Test Loss: 1.595389481644455\n",
            "Epoch 35 - Test Accuracy: 0.28517565649396737\n",
            "Epoch 40 - Train Accuracy: 0.6023166023166023\n",
            "Epoch 40 - Train Loss: 1.4400561571121215, Test Loss: 1.5842577029895513\n",
            "Epoch 40 - Test Accuracy: 0.20701738821859475\n",
            "Epoch 45 - Train Accuracy: 0.6061776061776062\n",
            "Epoch 45 - Train Loss: 1.3852723360061645, Test Loss: 1.568260777435627\n",
            "Epoch 45 - Test Accuracy: 0.2130056777856636\n",
            "Epoch 50 - Train Accuracy: 0.5984555984555985\n",
            "Epoch 50 - Train Loss: 1.331251072883606, Test Loss: 1.5439902290744079\n",
            "Epoch 50 - Test Accuracy: 0.2357611781405252\n",
            "Epoch 55 - Train Accuracy: 0.6833976833976834\n",
            "Epoch 55 - Train Loss: 1.285999321937561, Test Loss: 1.5109464598782678\n",
            "Epoch 55 - Test Accuracy: 0.529542228530873\n",
            "Epoch 60 - Train Accuracy: 0.7335907335907336\n",
            "Epoch 60 - Train Loss: 1.2487441778182984, Test Loss: 1.4737663667532945\n",
            "Epoch 60 - Test Accuracy: 0.6109829666430092\n",
            "Epoch 65 - Train Accuracy: 0.7606177606177607\n",
            "Epoch 65 - Train Loss: 1.2171610593795776, Test Loss: 1.4341506606796308\n",
            "Epoch 65 - Test Accuracy: 0.7050212916962385\n",
            "Epoch 70 - Train Accuracy: 0.7722007722007722\n",
            "Epoch 70 - Train Loss: 1.1882128953933715, Test Loss: 1.388822516030698\n",
            "Epoch 70 - Test Accuracy: 0.720457771469127\n",
            "Epoch 75 - Train Accuracy: 0.7760617760617761\n",
            "Epoch 75 - Train Loss: 1.1600424289703368, Test Loss: 1.3381917962946905\n",
            "Epoch 75 - Test Accuracy: 0.7235628105039035\n",
            "Epoch 80 - Train Accuracy: 0.803088803088803\n",
            "Epoch 80 - Train Loss: 1.1329859495162964, Test Loss: 1.288286418820238\n",
            "Epoch 80 - Test Accuracy: 0.7388662171753017\n",
            "Epoch 85 - Train Accuracy: 0.7992277992277992\n",
            "Epoch 85 - Train Loss: 1.1103022813796997, Test Loss: 1.2491570559169347\n",
            "Epoch 85 - Test Accuracy: 0.7534155429382541\n",
            "Epoch 90 - Train Accuracy: 0.806949806949807\n",
            "Epoch 90 - Train Loss: 1.0923672556877135, Test Loss: 1.2238547089417324\n",
            "Epoch 90 - Test Accuracy: 0.749778211497516\n",
            "Epoch 95 - Train Accuracy: 0.8108108108108109\n",
            "Epoch 95 - Train Loss: 1.0774927258491516, Test Loss: 1.2066953472645356\n",
            "Epoch 95 - Test Accuracy: 0.7489797728885734\n",
            "Epoch 100 - Train Accuracy: 0.8378378378378378\n",
            "Epoch 100 - Train Loss: 1.0644492268562318, Test Loss: 1.1935595895345759\n",
            "Epoch 100 - Test Accuracy: 0.7582505322924059\n",
            "Epoch 105 - Train Accuracy: 0.8957528957528957\n",
            "Epoch 105 - Train Loss: 1.0523842215538024, Test Loss: 1.1826973174178905\n",
            "Epoch 105 - Test Accuracy: 0.7670777146912704\n",
            "Epoch 110 - Train Accuracy: 0.9073359073359073\n",
            "Epoch 110 - Train Loss: 1.0410197854042054, Test Loss: 1.1737863318440596\n",
            "Epoch 110 - Test Accuracy: 0.7665010645848119\n",
            "Epoch 115 - Train Accuracy: 0.9034749034749034\n",
            "Epoch 115 - Train Loss: 1.030696177482605, Test Loss: 1.1664308475029705\n",
            "Epoch 115 - Test Accuracy: 0.7660131298793471\n",
            "Epoch 120 - Train Accuracy: 0.9073359073359073\n",
            "Epoch 120 - Train Loss: 1.0216384530067444, Test Loss: 1.1607754183220795\n",
            "Epoch 120 - Test Accuracy: 0.765347764371895\n",
            "Epoch 125 - Train Accuracy: 0.9073359073359073\n",
            "Epoch 125 - Train Loss: 1.01388019323349, Test Loss: 1.1567031975846116\n",
            "Epoch 125 - Test Accuracy: 0.7641057487579844\n",
            "Epoch 130 - Train Accuracy: 0.9111969111969112\n",
            "Epoch 130 - Train Loss: 1.0070725440979005, Test Loss: 1.1533675156639251\n",
            "Epoch 130 - Test Accuracy: 0.76375088715401\n",
            "Epoch 135 - Train Accuracy: 0.915057915057915\n",
            "Epoch 135 - Train Loss: 1.0008527398109437, Test Loss: 1.1506316141771527\n",
            "Epoch 135 - Test Accuracy: 0.7630855216465579\n",
            "Epoch 140 - Train Accuracy: 0.915057915057915\n",
            "Epoch 140 - Train Loss: 0.9952639937400818, Test Loss: 1.1483754328222517\n",
            "Epoch 140 - Test Accuracy: 0.7627750177430802\n",
            "Epoch 145 - Train Accuracy: 0.9227799227799228\n",
            "Epoch 145 - Train Loss: 0.9904301166534424, Test Loss: 1.1468336389692917\n",
            "Epoch 145 - Test Accuracy: 0.7509315117104329\n",
            "Epoch 150 - Train Accuracy: 0.9305019305019305\n",
            "Epoch 150 - Train Loss: 0.9863305687904358, Test Loss: 1.1462876962197064\n",
            "Epoch 150 - Test Accuracy: 0.7483144073811213\n",
            "Epoch 155 - Train Accuracy: 0.9343629343629344\n",
            "Epoch 155 - Train Loss: 0.9827977061271668, Test Loss: 1.1463620193281525\n",
            "Epoch 155 - Test Accuracy: 0.7478264726756565\n",
            "Epoch 160 - Train Accuracy: 0.9343629343629344\n",
            "Epoch 160 - Train Loss: 0.9796271324157715, Test Loss: 1.1468641339212908\n",
            "Epoch 160 - Test Accuracy: 0.7477377572746629\n",
            "Epoch 165 - Train Accuracy: 0.9343629343629344\n",
            "Epoch 165 - Train Loss: 0.976876950263977, Test Loss: 1.1475785285150026\n",
            "Epoch 165 - Test Accuracy: 0.747471611071682\n",
            "Epoch 170 - Train Accuracy: 0.9382239382239382\n",
            "Epoch 170 - Train Loss: 0.9744521379470825, Test Loss: 1.148259909902686\n",
            "Epoch 170 - Test Accuracy: 0.7472054648687012\n",
            "Epoch 175 - Train Accuracy: 0.9382239382239382\n",
            "Epoch 175 - Train Loss: 0.9723022937774658, Test Loss: 1.1489091297722402\n",
            "Epoch 175 - Test Accuracy: 0.7462739531582683\n",
            "Epoch 180 - Train Accuracy: 0.9382239382239382\n",
            "Epoch 180 - Train Loss: 0.9703991770744324, Test Loss: 1.149617643937173\n",
            "Epoch 180 - Test Accuracy: 0.7450762952448545\n",
            "Early stopping at epoch 182\n"
          ]
        }
      ],
      "source": [
        "input_size = x_train.shape[1]\n",
        "model = myNeuralNet(input_size).to(device)\n",
        "\n",
        "batch_size = 64\n",
        "num_epochs = 200\n",
        "lr = 0.0001\n",
        "opt = optim.Adam(model.parameters(), lr=lr)\n",
        "loss_fcn = nn.CrossEntropyLoss()\n",
        "\n",
        "train_loss = []\n",
        "test_loss = []\n",
        "train_loader = DataLoader(train_dataset, batch_size=batch_size, shuffle=False)\n",
        "test_loader = DataLoader(test_dataset, batch_size=batch_size, shuffle=False)\n",
        "for epoch in range(num_epochs):\n",
        "    model.train()  # Set the model to training mode\n",
        "\n",
        "    # Initialize variables to store the total loss for this epoch\n",
        "    total_train_loss = 0\n",
        "    total_test_loss = 0\n",
        "    correct_predictions = 0\n",
        "    total_predictions = 0\n",
        "    # Training loop\n",
        "    for batch_id, (x, y) in enumerate(train_loader):\n",
        "        x, y = x.to(device), y.to(device)  # Move the data to the device that is used\n",
        "        opt.zero_grad()  # Zero the gradients\n",
        "        output = model(x)  # Forward pass\n",
        "        loss = loss_fcn(output, y)  # Compute the loss\n",
        "\n",
        "        total_train_loss += loss.item()  # Accumulate the loss\n",
        "        _, predicted = torch.max(output.data, 1)  # Get the predicted classes\n",
        "        total_predictions += y.size(0)\n",
        "        correct_predictions += (predicted == y).sum().item()\n",
        "        loss.backward()  # Backward pass\n",
        "        opt.step()  # Update the parameters\n",
        "\n",
        "    # Store the average training loss for this epoch\n",
        "    train_loss.append(total_train_loss / len(train_loader))\n",
        "    if (epoch + 1) % 5 == 0:\n",
        "        print(f\"Epoch {epoch + 1} - Train Accuracy: {correct_predictions / total_predictions}\")\n",
        "    # Validation loop\n",
        "    model.eval()  # Set the model to evaluation mode\n",
        "    correct_predictions = 0\n",
        "    total_predictions = 0\n",
        "    with torch.no_grad():  # No need to compute gradients during validation\n",
        "        for batch_id, (x, y) in enumerate(test_loader):\n",
        "            x, y = x.to(device), y.to(device)  # Move the data to the device that is used\n",
        "            output = model(x)  # Forward pass\n",
        "            loss = loss_fcn(output, y )  # Compute the loss\n",
        "            total_test_loss += loss.item()  # Accumulate the loss\n",
        "            _, predicted = torch.max(output.data, 1)\n",
        "            total_predictions += y.size(0)\n",
        "            correct_predictions += (predicted == y).sum().item()\n",
        "\n",
        "    # Store the average validation loss for this epoch\n",
        "    test_loss.append(total_test_loss / len(test_loader))\n",
        "\n",
        "    # Print the losses every 5 epochs\n",
        "    if (epoch + 1) % 5 == 0:\n",
        "        print(f\"Epoch {epoch + 1} - Train Loss: {train_loss[-1]}, Test Loss: {test_loss[-1]}\")\n",
        "        print(f\"Epoch {epoch + 1} - Test Accuracy: {correct_predictions / total_predictions}\")\n",
        "\n",
        "    # Save the best model so far\n",
        "    if epoch == 0 or test_loss[-1] < np.min(test_loss[:-1]):\n",
        "        best_model = model\n",
        "        best_epoch = epoch\n",
        "\n",
        "    # Early stopping\n",
        "    if epoch - best_epoch >= 30:\n",
        "        print(f\"Early stopping at epoch {epoch + 1}\")\n",
        "        break"
      ]
    },
    {
      "cell_type": "code",
      "execution_count": 25,
      "metadata": {},
      "outputs": [
        {
          "data": {
            "image/png": "[encoded data removed]",
            "text/plain": [
              "<Figure size 640x480 with 1 Axes>"
            ]
          },
          "metadata": {},
          "output_type": "display_data"
        }
      ],
      "source": [
        "# Plot the training and validation losses\n",
        "import matplotlib.pyplot as plt\n",
        "plt.plot(train_loss, label=\"Train Loss\")\n",
        "plt.plot(test_loss, label=\"Test Loss\")\n",
        "plt.xlabel(\"Epoch\")\n",
        "plt.ylabel(\"Loss\")\n",
        "plt.legend()\n",
        "plt.title(\"Training and Validation Losses\")\n",
        "plt.show()"
      ]
    }
  ],
  "metadata": {
    "colab": {
      "provenance": []
    },
    "kernelspec": {
      "display_name": "Python 3 (ipykernel)",
      "language": "python",
      "name": "python3"
    },
    "language_info": {
      "codemirror_mode": {
        "name": "ipython",
        "version": 3
      },
      "file_extension": ".py",
      "mimetype": "text/x-python",
      "name": "python",
      "nbconvert_exporter": "python",
      "pygments_lexer": "ipython3",
      "version": "3.11.4"
    },
    "vscode": {
      "interpreter": {
        "hash": "8276d678390595138ef1424ae828a970263a6f746980760e1cfd17345ae3e994"
      }
    }
  },
  "nbformat": 4,
  "nbformat_minor": 0
}
